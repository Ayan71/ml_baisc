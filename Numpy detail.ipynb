{
 "cells": [
  {
   "cell_type": "code",
   "execution_count": null,
   "id": "b06a80e7",
   "metadata": {},
   "outputs": [],
   "source": [
    "************************************************NUMPY NOTES*********************************************************************\n",
    "\n",
    "\n",
    "NumPy It is an fundamental package which is used for scientfic computation in python It consist of robust data structure which is called multi dimensional array\n",
    "\n",
    "Numerical Python extensively effecient for efficient mathematical learning It allows user to store large amount of numerical data in the form of array using less memory and perform extensive operation effeciently\n",
    "\n",
    "Numpy array stores homogeneous numerical data\n"
   ]
  },
  {
   "cell_type": "code",
   "execution_count": null,
   "id": "d1574c8b",
   "metadata": {},
   "outputs": [],
   "source": [
    "Homogeneous like this [3,4,5]\n",
    "Hetrogenous like this ['hello',2,4]"
   ]
  },
  {
   "cell_type": "code",
   "execution_count": null,
   "id": "c669935a",
   "metadata": {},
   "outputs": [],
   "source": [
    "import numpy as np\n"
   ]
  },
  {
   "cell_type": "code",
   "execution_count": null,
   "id": "af84c8cc",
   "metadata": {},
   "outputs": [],
   "source": [
    "ar=np.array([1,2,3,34,4,5])\n",
    "type (ar)"
   ]
  },
  {
   "cell_type": "code",
   "execution_count": null,
   "id": "e479a6c1",
   "metadata": {},
   "outputs": [],
   "source": [
    "l=[2222,3,34,4,54,56]\n",
    "print(l)\n",
    "ar=np.array([22,3,34,44])\n",
    "ar"
   ]
  },
  {
   "cell_type": "code",
   "execution_count": null,
   "id": "15311abc",
   "metadata": {},
   "outputs": [],
   "source": [
    "l=[1,2,3,4]                #in python\n",
    "for i in range (len(l)):\n",
    "    l[i]=l[i]+5\n",
    "print(l)"
   ]
  },
  {
   "cell_type": "code",
   "execution_count": null,
   "id": "c9b5c04e",
   "metadata": {},
   "outputs": [],
   "source": [
    "l=[1,2,3,4]\n",
    "ar=np.array([l])\n",
    "ar=ar+5\n",
    "print(ar)"
   ]
  },
  {
   "cell_type": "code",
   "execution_count": null,
   "id": "a310cbc3",
   "metadata": {},
   "outputs": [],
   "source": [
    "l1=[122222,3,3,3,4]                        #in python \n",
    "l2=[333333,5,5,6,6]\n",
    "print(l1+l2)"
   ]
  },
  {
   "cell_type": "code",
   "execution_count": null,
   "id": "af71555e",
   "metadata": {},
   "outputs": [],
   "source": [
    "l1=[122222,3,3,3,4]                        # add in numpy \n",
    "l2=[333333,5,5,6,6]\n",
    "ar1=np.array([l1])\n",
    "ar2=np.array([l2])\n",
    "ar1+ar2"
   ]
  },
  {
   "cell_type": "code",
   "execution_count": null,
   "id": "1e854d03",
   "metadata": {},
   "outputs": [],
   "source": [
    "True =1  , False=0"
   ]
  },
  {
   "cell_type": "code",
   "execution_count": null,
   "id": "e997d42e",
   "metadata": {},
   "outputs": [],
   "source": [
    "ar=np.array([2.6,9])\n",
    "ar"
   ]
  },
  {
   "cell_type": "code",
   "execution_count": null,
   "id": "4211ccb0",
   "metadata": {},
   "outputs": [],
   "source": [
    "ar=np.array(['sum',2,3,34,4])  # all value show in string \n",
    "ar"
   ]
  },
  {
   "cell_type": "code",
   "execution_count": null,
   "id": "c8c5b443",
   "metadata": {},
   "outputs": [],
   "source": [
    "\"Operation nover 1d array\"!"
   ]
  },
  {
   "cell_type": "code",
   "execution_count": null,
   "id": "a8bf866c",
   "metadata": {},
   "outputs": [],
   "source": [
    "h=[2,3,43,4,56,67]\n",
    "ar=np.array(h)\n",
    "ar"
   ]
  },
  {
   "cell_type": "code",
   "execution_count": null,
   "id": "09e3468d",
   "metadata": {},
   "outputs": [],
   "source": [
    "ar.size       #SIZE OF ARRAY"
   ]
  },
  {
   "cell_type": "code",
   "execution_count": null,
   "id": "73229f96",
   "metadata": {},
   "outputs": [],
   "source": [
    "ar.shape      #SHAPE OF ARRAY"
   ]
  },
  {
   "cell_type": "code",
   "execution_count": null,
   "id": "5bfe40b7",
   "metadata": {},
   "outputs": [],
   "source": [
    "len(ar)       #LENGTH OF ARRAY"
   ]
  },
  {
   "cell_type": "code",
   "execution_count": null,
   "id": "c4e9399e",
   "metadata": {},
   "outputs": [],
   "source": [
    "BMI(BODY MASS INDEX)\n",
    "THE FORMULA OF BODY MASS INDEX\n",
    "BMI=W/(H***2)"
   ]
  },
  {
   "cell_type": "code",
   "execution_count": null,
   "id": "58548086",
   "metadata": {},
   "outputs": [],
   "source": [
    "height=[2,3,4,5]\n",
    "weight=[6,7,8,9]\n",
    "h=np.array([height])\n",
    "w=np.array([weight])\n",
    "bmi=w/(h**2)\n",
    "bmi"
   ]
  },
  {
   "cell_type": "code",
   "execution_count": null,
   "id": "079bad7a",
   "metadata": {},
   "outputs": [],
   "source": [
    "FIND THE MAXIMUM AND MINIMUM VALUES "
   ]
  },
  {
   "cell_type": "code",
   "execution_count": null,
   "id": "26221c7f",
   "metadata": {},
   "outputs": [],
   "source": [
    "ar=[222,3,3,34]\n",
    "max(ar)"
   ]
  },
  {
   "cell_type": "code",
   "execution_count": null,
   "id": "5daf607c",
   "metadata": {},
   "outputs": [],
   "source": [
    "ar=[34,5,6,7777]\n",
    "min(ar)"
   ]
  },
  {
   "cell_type": "code",
   "execution_count": null,
   "id": "c2d05be8",
   "metadata": {},
   "outputs": [],
   "source": [
    "From the given array entract all the element which are greater that \"m\" and less than \"n\"\n",
    "notes -\"m\" and \"n\" are integer values proivde as input "
   ]
  },
  {
   "cell_type": "code",
   "execution_count": null,
   "id": "d9333357",
   "metadata": {},
   "outputs": [],
   "source": [
    "height=[2,3,4,54]\n",
    "weight=[3,4,5,6565]\n",
    "h=np.array([height])\n",
    "w=np.array([weight])\n",
    "m=10\n",
    "n=4444\n",
    "h[(h>m)&(w<n)]"
   ]
  },
  {
   "cell_type": "code",
   "execution_count": null,
   "id": "5880cbf7",
   "metadata": {},
   "outputs": [],
   "source": [
    "ar=np.array([2,3,4,5,6])    # start end and step\n",
    "ar[1:4:2]"
   ]
  },
  {
   "cell_type": "code",
   "execution_count": null,
   "id": "712711c7",
   "metadata": {},
   "outputs": [],
   "source": [
    "number=[2,3,4,4,54,5]\n",
    "price=[234,5,5,666,55,44]\n",
    "ar1=np.array(number)\n",
    "ar2=np.array(price)\n",
    "ar1"
   ]
  },
  {
   "cell_type": "code",
   "execution_count": null,
   "id": "76bf8347",
   "metadata": {},
   "outputs": [],
   "source": [
    "how many iteam sold in table "
   ]
  },
  {
   "cell_type": "code",
   "execution_count": null,
   "id": "82f441de",
   "metadata": {},
   "outputs": [],
   "source": [
    "print(ar1.sum())"
   ]
  },
  {
   "cell_type": "code",
   "execution_count": null,
   "id": "ec58bfd6",
   "metadata": {},
   "outputs": [],
   "source": [
    "what the average price of the product sold by the e commrece company\n"
   ]
  },
  {
   "cell_type": "code",
   "execution_count": null,
   "id": "c0554341",
   "metadata": {},
   "outputs": [],
   "source": [
    "print(ar2.mean())"
   ]
  },
  {
   "cell_type": "code",
   "execution_count": null,
   "id": "6ca94a12",
   "metadata": {},
   "outputs": [],
   "source": [
    "what the price of the costliest iteam, sold"
   ]
  },
  {
   "cell_type": "code",
   "execution_count": null,
   "id": "12d7ec1f",
   "metadata": {},
   "outputs": [],
   "source": [
    "print(ar2.max())"
   ]
  },
  {
   "cell_type": "code",
   "execution_count": null,
   "id": "8ed73388",
   "metadata": {},
   "outputs": [],
   "source": [
    "what the total revenue of the company\n",
    "revenue =price*quantity"
   ]
  },
  {
   "cell_type": "code",
   "execution_count": null,
   "id": "b9b73f80",
   "metadata": {},
   "outputs": [],
   "source": [
    "print(ar1*ar2)"
   ]
  },
  {
   "cell_type": "code",
   "execution_count": null,
   "id": "cf7a41bd",
   "metadata": {},
   "outputs": [],
   "source": [
    "demand for the 3th product on the list higher than that for the 5th product"
   ]
  },
  {
   "cell_type": "code",
   "execution_count": null,
   "id": "b3c151ec",
   "metadata": {},
   "outputs": [],
   "source": [
    "print(ar1[2]>ar1[4])"
   ]
  },
  {
   "cell_type": "code",
   "execution_count": null,
   "id": "04d5aca5",
   "metadata": {},
   "outputs": [],
   "source": [
    "how amny product fall under the categrary of expensive goods \n",
    "an expensive good is one whose price is higher than average price of the product sold by the company"
   ]
  },
  {
   "cell_type": "code",
   "execution_count": null,
   "id": "c619982b",
   "metadata": {},
   "outputs": [],
   "source": [
    "avg=ar2.mean()\n",
    "avg"
   ]
  },
  {
   "cell_type": "code",
   "execution_count": null,
   "id": "1bafa089",
   "metadata": {},
   "outputs": [],
   "source": [
    "print(ar2>avg)"
   ]
  },
  {
   "cell_type": "code",
   "execution_count": null,
   "id": "3f7977c9",
   "metadata": {},
   "outputs": [],
   "source": [
    "ar2[ar2>avg]"
   ]
  },
  {
   "cell_type": "code",
   "execution_count": null,
   "id": "2ab39f3b",
   "metadata": {},
   "outputs": [],
   "source": [
    "MUTIDIMENTIONAL ARRAY \n"
   ]
  },
  {
   "cell_type": "code",
   "execution_count": 3,
   "id": "05c27422",
   "metadata": {},
   "outputs": [
    {
     "data": {
      "text/plain": [
       "1"
      ]
     },
     "execution_count": 3,
     "metadata": {},
     "output_type": "execute_result"
    }
   ],
   "source": [
    "#THIS IS 1D ARRAY                              \n",
    "import numpy as np\n",
    "ar=np.array([3,34,45,56])\n",
    "ar.ndim\n"
   ]
  },
  {
   "cell_type": "code",
   "execution_count": 4,
   "id": "7559d59d",
   "metadata": {},
   "outputs": [
    {
     "data": {
      "text/plain": [
       "2"
      ]
     },
     "execution_count": 4,
     "metadata": {},
     "output_type": "execute_result"
    }
   ],
   "source": [
    "#This is 2D array\n",
    "ar=np.array([\n",
    "    [1,2,3],\n",
    "    [2,3,4],\n",
    "    [6,7,8]\n",
    "])\n",
    "ar.ndim"
   ]
  },
  {
   "cell_type": "code",
   "execution_count": 5,
   "id": "1ddf6921",
   "metadata": {},
   "outputs": [
    {
     "data": {
      "text/plain": [
       "3"
      ]
     },
     "execution_count": 5,
     "metadata": {},
     "output_type": "execute_result"
    }
   ],
   "source": [
    "#this is 3D araay \n",
    "ar=np.array([\n",
    "    [\n",
    "        [2,3,3],\n",
    "        [5,5,6],\n",
    "        [8,9,9]\n",
    "    ]\n",
    "])\n",
    "ar.ndim"
   ]
  },
  {
   "cell_type": "code",
   "execution_count": 7,
   "id": "f181dabb",
   "metadata": {},
   "outputs": [
    {
     "data": {
      "text/plain": [
       "(2, 3)"
      ]
     },
     "execution_count": 7,
     "metadata": {},
     "output_type": "execute_result"
    }
   ],
   "source": [
    "ar=np.array([                     #first row and columns\n",
    "    [2,3,4],\n",
    "    [4,5,6]\n",
    "    \n",
    "])\n",
    "ar.shape"
   ]
  },
  {
   "cell_type": "code",
   "execution_count": 9,
   "id": "4ee147ab",
   "metadata": {},
   "outputs": [
    {
     "data": {
      "text/plain": [
       "6"
      ]
     },
     "execution_count": 9,
     "metadata": {},
     "output_type": "execute_result"
    }
   ],
   "source": [
    "ar=np.array([\n",
    "    [2,3,4],\n",
    "    [5,6,6]\n",
    "    \n",
    "])\n",
    "ar.size"
   ]
  },
  {
   "cell_type": "code",
   "execution_count": 14,
   "id": "b924bb16",
   "metadata": {},
   "outputs": [
    {
     "data": {
      "text/plain": [
       "4"
      ]
     },
     "execution_count": 14,
     "metadata": {},
     "output_type": "execute_result"
    }
   ],
   "source": [
    "ar=np.array([\n",
    "    [2,3,4],\n",
    "    [7,5,5]\n",
    "    \n",
    "])\n",
    "ar.itemsize"
   ]
  },
  {
   "cell_type": "code",
   "execution_count": null,
   "id": "18ae6b76",
   "metadata": {},
   "outputs": [],
   "source": [
    "axis 0= Row\n",
    "axis 1=columns"
   ]
  },
  {
   "cell_type": "code",
   "execution_count": 18,
   "id": "b44801fd",
   "metadata": {},
   "outputs": [
    {
     "data": {
      "text/plain": [
       "array([[            4,             6,             8],\n",
       "       [1111111111110,            12,            14]], dtype=int64)"
      ]
     },
     "execution_count": 18,
     "metadata": {},
     "output_type": "execute_result"
    }
   ],
   "source": [
    "ar=np.array([                     #multiply\n",
    "    [2,3,4],\n",
    "    [555555555555,6,7]\n",
    "    \n",
    "])\n",
    "ar*2"
   ]
  },
  {
   "cell_type": "code",
   "execution_count": 19,
   "id": "481e6179",
   "metadata": {},
   "outputs": [
    {
     "data": {
      "text/plain": [
       "array([[1. , 1.5, 2. ],\n",
       "       [2.5, 3. , 3.5]])"
      ]
     },
     "execution_count": 19,
     "metadata": {},
     "output_type": "execute_result"
    }
   ],
   "source": [
    "ar=np.array([\n",
    "    [2,3,4],                         #divided\n",
    "    [5,6,7]\n",
    "    \n",
    "])\n",
    "ar/2"
   ]
  },
  {
   "cell_type": "code",
   "execution_count": 21,
   "id": "efbbd538",
   "metadata": {},
   "outputs": [
    {
     "data": {
      "text/plain": [
       "2"
      ]
     },
     "execution_count": 21,
     "metadata": {},
     "output_type": "execute_result"
    }
   ],
   "source": [
    "ar=np.array([[1,2],[3,4]])             #2d\n",
    "ar.ndim"
   ]
  },
  {
   "cell_type": "code",
   "execution_count": 23,
   "id": "fc43a294",
   "metadata": {},
   "outputs": [
    {
     "data": {
      "text/plain": [
       "array([4, 4, 4])"
      ]
     },
     "execution_count": 23,
     "metadata": {},
     "output_type": "execute_result"
    }
   ],
   "source": [
    "ar=np.array([\n",
    "    [2,2,2],                       #indexing\n",
    "    [3,3,3],\n",
    "    [4,4,4]\n",
    "])\n",
    "ar[2]"
   ]
  },
  {
   "cell_type": "code",
   "execution_count": 24,
   "id": "5fc00350",
   "metadata": {},
   "outputs": [
    {
     "data": {
      "text/plain": [
       "array([3, 3, 3])"
      ]
     },
     "execution_count": 24,
     "metadata": {},
     "output_type": "execute_result"
    }
   ],
   "source": [
    "ar=np.array([\n",
    "    [2,2,2],                       #indexing\n",
    "    [3,3,3],\n",
    "    [4,4,4]\n",
    "]) \n",
    "ar[1]"
   ]
  },
  {
   "cell_type": "code",
   "execution_count": 25,
   "id": "0726c24d",
   "metadata": {},
   "outputs": [
    {
     "data": {
      "text/plain": [
       "array([2, 2, 2])"
      ]
     },
     "execution_count": 25,
     "metadata": {},
     "output_type": "execute_result"
    }
   ],
   "source": [
    "ar=np.array([\n",
    "    [2,2,2],                       #indexing\n",
    "    [3,3,3],\n",
    "    [4,4,4]\n",
    "]) \n",
    "ar[0]"
   ]
  },
  {
   "cell_type": "code",
   "execution_count": 26,
   "id": "b8ba0725",
   "metadata": {},
   "outputs": [
    {
     "data": {
      "text/plain": [
       "3"
      ]
     },
     "execution_count": 26,
     "metadata": {},
     "output_type": "execute_result"
    }
   ],
   "source": [
    "ar=np.array([\n",
    "    [2,2,2],                       #indexing\n",
    "    [3,3,3],\n",
    "    [4,4,4]\n",
    "]) \n",
    "ar[1][0]"
   ]
  },
  {
   "cell_type": "code",
   "execution_count": 27,
   "id": "946ec845",
   "metadata": {},
   "outputs": [
    {
     "data": {
      "text/plain": [
       "8"
      ]
     },
     "execution_count": 27,
     "metadata": {},
     "output_type": "execute_result"
    }
   ],
   "source": [
    "ar=np.array([\n",
    "    [2,3,4],                       #indexing\n",
    "    [6,8,9],\n",
    "    [2,8,7]\n",
    "]) \n",
    "ar[2][1]"
   ]
  },
  {
   "cell_type": "code",
   "execution_count": 29,
   "id": "7df9b2ce",
   "metadata": {},
   "outputs": [
    {
     "data": {
      "text/plain": [
       "array([4, 4, 4, 6])"
      ]
     },
     "execution_count": 29,
     "metadata": {},
     "output_type": "execute_result"
    }
   ],
   "source": [
    "ar=np.array([\n",
    "    [2,2,2,3],                       #indexing\n",
    "    [3,3,3,65],\n",
    "    [4,4,4,6]\n",
    "]) \n",
    "ar[:][2]"
   ]
  },
  {
   "cell_type": "code",
   "execution_count": 30,
   "id": "a8a874d5",
   "metadata": {},
   "outputs": [
    {
     "data": {
      "text/plain": [
       "array([4, 4, 4, 6])"
      ]
     },
     "execution_count": 30,
     "metadata": {},
     "output_type": "execute_result"
    }
   ],
   "source": [
    "ar=np.array([\n",
    "    [2,2,2,3],                       #indexing\n",
    "    [3,3,3,65],\n",
    "    [4,4,4,6]\n",
    "]) \n",
    "ar[2][:]"
   ]
  },
  {
   "cell_type": "code",
   "execution_count": 32,
   "id": "45b6197c",
   "metadata": {},
   "outputs": [
    {
     "data": {
      "text/plain": [
       "0"
      ]
     },
     "execution_count": 32,
     "metadata": {},
     "output_type": "execute_result"
    }
   ],
   "source": [
    "ar=np.array([\n",
    "    [11,22,33,44,55],\n",
    "    [66,77,88,99,00],\n",
    "    [111,222,333,444,555]\n",
    "])\n",
    "ar[1][4]"
   ]
  },
  {
   "cell_type": "code",
   "execution_count": 36,
   "id": "169677de",
   "metadata": {},
   "outputs": [
    {
     "data": {
      "text/plain": [
       "array([111, 222, 333, 444, 555])"
      ]
     },
     "execution_count": 36,
     "metadata": {},
     "output_type": "execute_result"
    }
   ],
   "source": [
    "ar=np.array([\n",
    "    [11,22,33,44,55],\n",
    "    [66,77,88,99,00],\n",
    "    [111,222,333,444,555]\n",
    "])\n",
    "ar[2][:]"
   ]
  },
  {
   "cell_type": "code",
   "execution_count": 37,
   "id": "de032b26",
   "metadata": {},
   "outputs": [
    {
     "data": {
      "text/plain": [
       "array([ 55,   0, 555])"
      ]
     },
     "execution_count": 37,
     "metadata": {},
     "output_type": "execute_result"
    }
   ],
   "source": [
    "ar=np.array([\n",
    "    [11,22,33,44,55],\n",
    "    [66,77,88,99,00],\n",
    "    [111,222,333,444,555]\n",
    "])\n",
    "ar[:,4]"
   ]
  },
  {
   "cell_type": "code",
   "execution_count": null,
   "id": "5261cb3b",
   "metadata": {},
   "outputs": [],
   "source": [
    "Intersect1d $ setdiff1d  ?"
   ]
  },
  {
   "cell_type": "code",
   "execution_count": 41,
   "id": "9e512444",
   "metadata": {},
   "outputs": [
    {
     "data": {
      "text/plain": [
       "array([3, 4, 6])"
      ]
     },
     "execution_count": 41,
     "metadata": {},
     "output_type": "execute_result"
    }
   ],
   "source": [
    "n1=np.array([2,3,4,6])\n",
    "n2=np.array([3,4,5,6])               #intersect\n",
    "np.intersect1d(n1,n2)"
   ]
  },
  {
   "cell_type": "code",
   "execution_count": 39,
   "id": "decabf98",
   "metadata": {},
   "outputs": [
    {
     "data": {
      "text/plain": [
       "array([3, 4])"
      ]
     },
     "execution_count": 39,
     "metadata": {},
     "output_type": "execute_result"
    }
   ],
   "source": [
    "n1=np.array([2,3,4])                #intersect\n",
    "n2=np.array([3,4,5])\n",
    "np.intersect1d(n2,n1)"
   ]
  },
  {
   "cell_type": "code",
   "execution_count": 42,
   "id": "34f5b5ba",
   "metadata": {},
   "outputs": [
    {
     "data": {
      "text/plain": [
       "array([2])"
      ]
     },
     "execution_count": 42,
     "metadata": {},
     "output_type": "execute_result"
    }
   ],
   "source": [
    "n1=np.array([2,3,4])\n",
    "n2=np.array([3,4,5])                #setdiff\n",
    "np.setdiff1d(n1,n2)\n"
   ]
  },
  {
   "cell_type": "code",
   "execution_count": 43,
   "id": "d9437e68",
   "metadata": {},
   "outputs": [
    {
     "data": {
      "text/plain": [
       "array([5])"
      ]
     },
     "execution_count": 43,
     "metadata": {},
     "output_type": "execute_result"
    }
   ],
   "source": [
    "n1=np.array([2,3,4])                #setdiff\n",
    "n2=np.array([3,4,5])\n",
    "np.setdiff1d(n2,n1)"
   ]
  },
  {
   "cell_type": "code",
   "execution_count": null,
   "id": "f0ae4b17",
   "metadata": {},
   "outputs": [],
   "source": [
    "V STACK , H STACK  , COLUMN-STACK  ?\n",
    "column all the array should be same "
   ]
  },
  {
   "cell_type": "code",
   "execution_count": null,
   "id": "f420c3ff",
   "metadata": {},
   "outputs": [],
   "source": [
    "import numpy as np"
   ]
  },
  {
   "cell_type": "code",
   "execution_count": 46,
   "id": "6aaba87d",
   "metadata": {},
   "outputs": [
    {
     "data": {
      "text/plain": [
       "array([[11, 22, 33, 44],\n",
       "       [22, 33, 44, 44]])"
      ]
     },
     "execution_count": 46,
     "metadata": {},
     "output_type": "execute_result"
    }
   ],
   "source": [
    "n1= np .array([11,22,33,44])            #vstack\n",
    "n2=np.array([22,33,44,44])\n",
    "np.vstack((n1,n2))"
   ]
  },
  {
   "cell_type": "code",
   "execution_count": 48,
   "id": "b076bd74",
   "metadata": {},
   "outputs": [
    {
     "data": {
      "text/plain": [
       "array([[ 22,   3, 333,   4],\n",
       "       [ 11,  22,  33,  44]])"
      ]
     },
     "execution_count": 48,
     "metadata": {},
     "output_type": "execute_result"
    }
   ],
   "source": [
    "n1= np .array([11,22,33,44])            #vstack\n",
    "n2=np.array([22,3,333,4])\n",
    "np.vstack((n2,n1))"
   ]
  },
  {
   "cell_type": "code",
   "execution_count": 54,
   "id": "1ad6347f",
   "metadata": {},
   "outputs": [
    {
     "data": {
      "text/plain": [
       "array([2, 3, 5, 2, 3, 4])"
      ]
     },
     "execution_count": 54,
     "metadata": {},
     "output_type": "execute_result"
    }
   ],
   "source": [
    "n1=np.array ([2,3,4])                 #htack\n",
    "n2=np.array([2,3,5])\n",
    "np.hstack((n2,n1))"
   ]
  },
  {
   "cell_type": "code",
   "execution_count": 56,
   "id": "bee73a08",
   "metadata": {},
   "outputs": [
    {
     "data": {
      "text/plain": [
       "array([[2, 2],\n",
       "       [3, 3],\n",
       "       [4, 5]])"
      ]
     },
     "execution_count": 56,
     "metadata": {},
     "output_type": "execute_result"
    }
   ],
   "source": [
    "n1=np.array ([2,3,4])                 #column_stack\n",
    "n2=np.array([2,3,5])\n",
    "np.column_stack((n1,n2))"
   ]
  },
  {
   "cell_type": "code",
   "execution_count": 57,
   "id": "1656231c",
   "metadata": {},
   "outputs": [
    {
     "data": {
      "text/plain": [
       "array([[2, 2],\n",
       "       [3, 3],\n",
       "       [5, 4]])"
      ]
     },
     "execution_count": 57,
     "metadata": {},
     "output_type": "execute_result"
    }
   ],
   "source": [
    "n1=np.array ([2,3,4])                 #column_stack\n",
    "n2=np.array([2,3,5])\n",
    "np.column_stack((n2,n1))"
   ]
  },
  {
   "cell_type": "code",
   "execution_count": null,
   "id": "73a2b89c",
   "metadata": {},
   "outputs": [],
   "source": [
    "ARANGE ,   FULL   ,  RANDOM RADINT  ?"
   ]
  },
  {
   "cell_type": "code",
   "execution_count": null,
   "id": "684fbbc2",
   "metadata": {},
   "outputs": [],
   "source": [
    "import numpy as np"
   ]
  },
  {
   "cell_type": "code",
   "execution_count": 65,
   "id": "91b36822",
   "metadata": {},
   "outputs": [
    {
     "data": {
      "text/plain": [
       "array([ 2,  4,  6,  8, 10, 12, 14, 16, 18, 20, 22, 24, 26, 28, 30, 32, 34,\n",
       "       36, 38, 40, 42, 44, 46, 48])"
      ]
     },
     "execution_count": 65,
     "metadata": {},
     "output_type": "execute_result"
    }
   ],
   "source": [
    "np.arange(2,50,2)           #range start,end , step\n"
   ]
  },
  {
   "cell_type": "code",
   "execution_count": 66,
   "id": "54f0a106",
   "metadata": {},
   "outputs": [
    {
     "data": {
      "text/plain": [
       "array([[10, 10, 10, 10],\n",
       "       [10, 10, 10, 10],\n",
       "       [10, 10, 10, 10]])"
      ]
     },
     "execution_count": 66,
     "metadata": {},
     "output_type": "execute_result"
    }
   ],
   "source": [
    "n1=np.full((3,4),10)\n",
    "n1"
   ]
  },
  {
   "cell_type": "code",
   "execution_count": 67,
   "id": "b7dc0c13",
   "metadata": {},
   "outputs": [
    {
     "data": {
      "text/plain": [
       "array([[10, 10, 10, 10, 10, 10, 10],\n",
       "       [10, 10, 10, 10, 10, 10, 10],\n",
       "       [10, 10, 10, 10, 10, 10, 10]])"
      ]
     },
     "execution_count": 67,
     "metadata": {},
     "output_type": "execute_result"
    }
   ],
   "source": [
    "n1=np.full((3,7),10)\n",
    "n1"
   ]
  },
  {
   "cell_type": "code",
   "execution_count": 69,
   "id": "48ed75fe",
   "metadata": {},
   "outputs": [
    {
     "data": {
      "text/plain": [
       "array([[10, 10, 10, 10],\n",
       "       [10, 10, 10, 10],\n",
       "       [10, 10, 10, 10],\n",
       "       [10, 10, 10, 10],\n",
       "       [10, 10, 10, 10],\n",
       "       [10, 10, 10, 10],\n",
       "       [10, 10, 10, 10],\n",
       "       [10, 10, 10, 10],\n",
       "       [10, 10, 10, 10]])"
      ]
     },
     "execution_count": 69,
     "metadata": {},
     "output_type": "execute_result"
    }
   ],
   "source": [
    "n1=np.full((9,4),10)\n",
    "n1"
   ]
  },
  {
   "cell_type": "code",
   "execution_count": null,
   "id": "811bb9cd",
   "metadata": {},
   "outputs": [],
   "source": [
    "Equal ,ONES, ZEROES,LINSPACE,TITLE  ?"
   ]
  },
  {
   "cell_type": "code",
   "execution_count": 70,
   "id": "dc7bf1c2",
   "metadata": {},
   "outputs": [
    {
     "data": {
      "text/plain": [
       "array([False, False, False])"
      ]
     },
     "execution_count": 70,
     "metadata": {},
     "output_type": "execute_result"
    }
   ],
   "source": [
    "n1=np.array([2,3,4])        #f n1 or n2 equal or not ouput (True or false)\n",
    "n2=np.array([4,5,6])\n",
    "np.equal(n1,n2)"
   ]
  },
  {
   "cell_type": "code",
   "execution_count": 72,
   "id": "cbdb0093",
   "metadata": {},
   "outputs": [
    {
     "data": {
      "text/plain": [
       "array([[[1., 1., 1.],\n",
       "        [1., 1., 1.],\n",
       "        [1., 1., 1.]],\n",
       "\n",
       "       [[1., 1., 1.],\n",
       "        [1., 1., 1.],\n",
       "        [1., 1., 1.]]])"
      ]
     },
     "execution_count": 72,
     "metadata": {},
     "output_type": "execute_result"
    }
   ],
   "source": [
    "ar=np.ones((2,3,3))     # dimension ,start ,end\n",
    "ar"
   ]
  },
  {
   "cell_type": "code",
   "execution_count": 75,
   "id": "2c97d60b",
   "metadata": {},
   "outputs": [
    {
     "data": {
      "text/plain": [
       "array([[[1., 1., 1., 1.],\n",
       "        [1., 1., 1., 1.],\n",
       "        [1., 1., 1., 1.]]])"
      ]
     },
     "execution_count": 75,
     "metadata": {},
     "output_type": "execute_result"
    }
   ],
   "source": [
    "ar=np.ones((1,3,4))\n",
    "ar"
   ]
  },
  {
   "cell_type": "code",
   "execution_count": 77,
   "id": "076c0893",
   "metadata": {},
   "outputs": [
    {
     "data": {
      "text/plain": [
       "array([[[1., 1., 1., 1., 1., 1.],\n",
       "        [1., 1., 1., 1., 1., 1.],\n",
       "        [1., 1., 1., 1., 1., 1.]],\n",
       "\n",
       "       [[1., 1., 1., 1., 1., 1.],\n",
       "        [1., 1., 1., 1., 1., 1.],\n",
       "        [1., 1., 1., 1., 1., 1.]]])"
      ]
     },
     "execution_count": 77,
     "metadata": {},
     "output_type": "execute_result"
    }
   ],
   "source": [
    "ar=np.ones((2,3,6))\n",
    "ar"
   ]
  },
  {
   "cell_type": "code",
   "execution_count": 79,
   "id": "71b4ca48",
   "metadata": {},
   "outputs": [
    {
     "data": {
      "text/plain": [
       "array([[0., 0., 0.],\n",
       "       [0., 0., 0.]])"
      ]
     },
     "execution_count": 79,
     "metadata": {},
     "output_type": "execute_result"
    }
   ],
   "source": [
    "ar=np.zeros((2,3))        #row and columns\n",
    "ar"
   ]
  },
  {
   "cell_type": "code",
   "execution_count": 80,
   "id": "57f9f88d",
   "metadata": {},
   "outputs": [
    {
     "data": {
      "text/plain": [
       "array([[0., 0., 0.],\n",
       "       [0., 0., 0.],\n",
       "       [0., 0., 0.]])"
      ]
     },
     "execution_count": 80,
     "metadata": {},
     "output_type": "execute_result"
    }
   ],
   "source": [
    "ar=np.zeros((3,3))\n",
    "ar"
   ]
  },
  {
   "cell_type": "code",
   "execution_count": 83,
   "id": "f4838266",
   "metadata": {},
   "outputs": [
    {
     "data": {
      "text/plain": [
       "array([ 1.        ,  1.16981132,  1.33962264,  1.50943396,  1.67924528,\n",
       "        1.8490566 ,  2.01886792,  2.18867925,  2.35849057,  2.52830189,\n",
       "        2.69811321,  2.86792453,  3.03773585,  3.20754717,  3.37735849,\n",
       "        3.54716981,  3.71698113,  3.88679245,  4.05660377,  4.22641509,\n",
       "        4.39622642,  4.56603774,  4.73584906,  4.90566038,  5.0754717 ,\n",
       "        5.24528302,  5.41509434,  5.58490566,  5.75471698,  5.9245283 ,\n",
       "        6.09433962,  6.26415094,  6.43396226,  6.60377358,  6.77358491,\n",
       "        6.94339623,  7.11320755,  7.28301887,  7.45283019,  7.62264151,\n",
       "        7.79245283,  7.96226415,  8.13207547,  8.30188679,  8.47169811,\n",
       "        8.64150943,  8.81132075,  8.98113208,  9.1509434 ,  9.32075472,\n",
       "        9.49056604,  9.66037736,  9.83018868, 10.        ])"
      ]
     },
     "execution_count": 83,
     "metadata": {},
     "output_type": "execute_result"
    }
   ],
   "source": [
    "ar=np.linspace(1,10,54)         \n",
    "ar"
   ]
  },
  {
   "cell_type": "code",
   "execution_count": 86,
   "id": "b4a6c609",
   "metadata": {},
   "outputs": [
    {
     "ename": "AttributeError",
     "evalue": "module 'numpy' has no attribute 'title'",
     "output_type": "error",
     "traceback": [
      "\u001b[1;31m---------------------------------------------------------------------------\u001b[0m",
      "\u001b[1;31mAttributeError\u001b[0m                            Traceback (most recent call last)",
      "\u001b[1;32m~\\AppData\\Local\\Temp/ipykernel_492/1927242580.py\u001b[0m in \u001b[0;36m<module>\u001b[1;34m\u001b[0m\n\u001b[0;32m      1\u001b[0m \u001b[1;32mimport\u001b[0m \u001b[0mnumpy\u001b[0m \u001b[1;32mas\u001b[0m \u001b[0mnp\u001b[0m\u001b[1;33m\u001b[0m\u001b[1;33m\u001b[0m\u001b[0m\n\u001b[0;32m      2\u001b[0m \u001b[0mar\u001b[0m\u001b[1;33m=\u001b[0m\u001b[0mnp\u001b[0m\u001b[1;33m.\u001b[0m\u001b[0marray\u001b[0m\u001b[1;33m(\u001b[0m\u001b[1;33m[\u001b[0m\u001b[1;36m2\u001b[0m\u001b[1;33m,\u001b[0m\u001b[1;36m3\u001b[0m\u001b[1;33m]\u001b[0m\u001b[1;33m)\u001b[0m\u001b[1;33m\u001b[0m\u001b[1;33m\u001b[0m\u001b[0m\n\u001b[1;32m----> 3\u001b[1;33m \u001b[0mnp\u001b[0m\u001b[1;33m.\u001b[0m\u001b[0mtitle\u001b[0m\u001b[1;33m(\u001b[0m\u001b[0mar\u001b[0m\u001b[1;33m,\u001b[0m\u001b[1;36m2\u001b[0m\u001b[1;33m)\u001b[0m\u001b[1;33m\u001b[0m\u001b[1;33m\u001b[0m\u001b[0m\n\u001b[0m",
      "\u001b[1;32m~\\anaconda3\\lib\\site-packages\\numpy\\__init__.py\u001b[0m in \u001b[0;36m__getattr__\u001b[1;34m(attr)\u001b[0m\n\u001b[0;32m    301\u001b[0m                 \u001b[1;32mreturn\u001b[0m \u001b[0mTester\u001b[0m\u001b[1;33m\u001b[0m\u001b[1;33m\u001b[0m\u001b[0m\n\u001b[0;32m    302\u001b[0m \u001b[1;33m\u001b[0m\u001b[0m\n\u001b[1;32m--> 303\u001b[1;33m             raise AttributeError(\"module {!r} has no attribute \"\n\u001b[0m\u001b[0;32m    304\u001b[0m                                  \"{!r}\".format(__name__, attr))\n\u001b[0;32m    305\u001b[0m \u001b[1;33m\u001b[0m\u001b[0m\n",
      "\u001b[1;31mAttributeError\u001b[0m: module 'numpy' has no attribute 'title'"
     ]
    }
   ],
   "source": [
    "\n",
    "import numpy as np\n",
    "ar=np.array([2,3])\n",
    "np.title(ar,2)\n"
   ]
  },
  {
   "cell_type": "code",
   "execution_count": null,
   "id": "1eb952e5",
   "metadata": {},
   "outputs": [],
   "source": [
    "EYE FUNCTION RETURN IDENTITY MATRICS FOR THE GIVEN ROW AND COLUMNS"
   ]
  },
  {
   "cell_type": "code",
   "execution_count": 87,
   "id": "3e724958",
   "metadata": {},
   "outputs": [
    {
     "data": {
      "text/plain": [
       "array([[1., 0., 0., 0.],\n",
       "       [0., 1., 0., 0.],\n",
       "       [0., 0., 1., 0.],\n",
       "       [0., 0., 0., 1.]])"
      ]
     },
     "execution_count": 87,
     "metadata": {},
     "output_type": "execute_result"
    }
   ],
   "source": [
    "np.eye(4,4)"
   ]
  },
  {
   "cell_type": "code",
   "execution_count": 89,
   "id": "1e8a8510",
   "metadata": {},
   "outputs": [
    {
     "data": {
      "text/plain": [
       "array([[0., 1., 0., 0.],\n",
       "       [0., 0., 1., 0.],\n",
       "       [0., 0., 0., 1.],\n",
       "       [0., 0., 0., 0.]])"
      ]
     },
     "execution_count": 89,
     "metadata": {},
     "output_type": "execute_result"
    }
   ],
   "source": [
    "np.eye(4,4,1)"
   ]
  },
  {
   "cell_type": "code",
   "execution_count": 90,
   "id": "7e10785a",
   "metadata": {},
   "outputs": [
    {
     "data": {
      "text/plain": [
       "array([[0., 0., 0.],\n",
       "       [1., 0., 0.],\n",
       "       [0., 1., 0.]])"
      ]
     },
     "execution_count": 90,
     "metadata": {},
     "output_type": "execute_result"
    }
   ],
   "source": [
    "np.eye(3,3,-1)"
   ]
  },
  {
   "cell_type": "code",
   "execution_count": null,
   "id": "2d590ca1",
   "metadata": {},
   "outputs": [],
   "source": []
  }
 ],
 "metadata": {
  "kernelspec": {
   "display_name": "Python 3 (ipykernel)",
   "language": "python",
   "name": "python3"
  },
  "language_info": {
   "codemirror_mode": {
    "name": "ipython",
    "version": 3
   },
   "file_extension": ".py",
   "mimetype": "text/x-python",
   "name": "python",
   "nbconvert_exporter": "python",
   "pygments_lexer": "ipython3",
   "version": "3.9.7"
  }
 },
 "nbformat": 4,
 "nbformat_minor": 5
}
