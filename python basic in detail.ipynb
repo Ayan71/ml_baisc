{
 "cells": [
  {
   "cell_type": "code",
   "execution_count": 1,
   "id": "ee26cd75",
   "metadata": {},
   "outputs": [
    {
     "ename": "SyntaxError",
     "evalue": "invalid syntax (Temp/ipykernel_13132/2502024079.py, line 1)",
     "output_type": "error",
     "traceback": [
      "\u001b[1;36m  File \u001b[1;32m\"C:\\Users\\HP\\AppData\\Local\\Temp/ipykernel_13132/2502024079.py\"\u001b[1;36m, line \u001b[1;32m1\u001b[0m\n\u001b[1;33m    *************************************************PYTHON BASIC****************************************************************\u001b[0m\n\u001b[1;37m    ^\u001b[0m\n\u001b[1;31mSyntaxError\u001b[0m\u001b[1;31m:\u001b[0m invalid syntax\n"
     ]
    }
   ],
   "source": [
    "*************************************************PYTHON BASIC****************************************************************\n",
    "\n",
    "PYTHON IS A GENERAL PURPOSE HIGH PROGRAMMING LANGUAGE\n",
    "PYTHON IS A POPULAR PROGRAMING LANGUAGE\n",
    "IT WAS CREATE BY\"GUIDO VAN ROSSUM\" AND RELEASED IN 1991\n",
    "===============================================================================================================================\n",
    "                                             IT IS USED FOR \n",
    "1 WEB DEVELOPMENT\n",
    "2 SOFTWARE DEVELOPMENT\n",
    "3 MATHEMATICS\n",
    "4 SYSTEM SCRIPTING\n",
    "===============================================================================================================================\n",
    "                                            WHY ITS POPULAR LANGUAGE\n",
    "PYTHON USE FOR !\n",
    "1 MACHINE LEARNING(MI)\n",
    "2 ARTIFICAL INTELLIGENCE(AI)\n",
    "3 DEPP LEARNING(DP)\n",
    "3 DATA SCIENCE(DC)\n",
    "===============================================================================================================================\n",
    "                                        MOST POPULAT LAIBIRARY IN PYTHON\n",
    "1 NUMPY \n",
    "2 PANDAS\n",
    "==============================================================================================================================\n",
    "                                           WHAT CAN PYTHON DO \n",
    "    \n",
    "1 PYTHON CAN BE USED ON A SERVER TO CREATE WEB APPLICTAION\n",
    "2 PYTHON CAN BE USED ALONG SIDE SOFTWARE TO CREATE WORKFLOWS\n",
    "3 PYTHON CAN CONNECTED TO DATA BASE SYSTEMS IT CAN ALSO READ MODIFY FILES\n",
    "3 PYTHON CAN BE USED TO HANDLE BIG DATA PERFORM COMPLEX MATHEMATICS\n",
    "===============================================================================================================================\n",
    "                                                 WHY PYTHON\n",
    "    \n",
    "* PYTHON WORK ON DIFFRENT PLATFOAM LIKE (WINDOW,MAC,LINUX,ETC)\n",
    "* PYTHON HAS A SIMPLE SYNTAX THE SIMILAR TO THE ENGLISH LANGUAGE\n",
    "* PYTHON RUNS ON A INTERPRETED LANGUAGE\n",
    "==============================================================================================================================\n",
    "                                            NUMBERS OF KEYWORDS IN PYTHON  \n",
    "    \n",
    "---- FALSE,NONE,TRUE,AND, AS,ASSERT,ASYNCE,BREAK,CLASS,CONTINOUS,DEF,DEL,ELIF,ELSE,EXCEPT,FINALLY,FOR FROM,GLE,IF,IMPORTTANT\n",
    "     LAMBDA,NONLOCAL,NOT,OR,PASS, RAIS, RETURN ,TRY, WHILE,  WITH,YIELD----\n",
    "==============================================================================================================================\n"
   ]
  },
  {
   "cell_type": "code",
   "execution_count": null,
   "id": "dd0b874d",
   "metadata": {},
   "outputs": [],
   "source": [
    "print(\"hello\")\n"
   ]
  },
  {
   "cell_type": "code",
   "execution_count": null,
   "id": "734f0eef",
   "metadata": {},
   "outputs": [],
   "source": [
    "a=10\n",
    "b=20\n",
    "print(a*b)\n",
    "print(a/b)\n",
    "print(a-b)\n",
    "print(a+b)"
   ]
  },
  {
   "cell_type": "code",
   "execution_count": null,
   "id": "b8b03390",
   "metadata": {},
   "outputs": [],
   "source": [
    "AND OPERATOR THE TWO CONDITIOIN IS TRUE THEN IT GIVE THE ANSWEER IS TRUE OTHERWISE GIVE FALSE"
   ]
  },
  {
   "cell_type": "code",
   "execution_count": 4,
   "id": "723107cc",
   "metadata": {},
   "outputs": [
    {
     "name": "stdout",
     "output_type": "stream",
     "text": [
      "False\n"
     ]
    }
   ],
   "source": [
    "\n",
    "print((3>4)and (5<6))"
   ]
  },
  {
   "cell_type": "code",
   "execution_count": null,
   "id": "cb5f3996",
   "metadata": {},
   "outputs": [],
   "source": [
    "OR operator the one CONDITION IS TRUE THEN OUPUT IS TRUE \n",
    "TWO CONTION IS FALSE THEN OULPUT IF FALSE"
   ]
  },
  {
   "cell_type": "code",
   "execution_count": 5,
   "id": "7643b0a5",
   "metadata": {},
   "outputs": [
    {
     "name": "stdout",
     "output_type": "stream",
     "text": [
      "True\n"
     ]
    }
   ],
   "source": [
    "print((4>5)or(5>1))"
   ]
  },
  {
   "cell_type": "code",
   "execution_count": null,
   "id": "90f02158",
   "metadata": {},
   "outputs": [],
   "source": [
    "STRING= STRING LIKE MANY OTHER POPULAR PROGRAMING LANGUAGE,STRING IN PYTHON ARE ARRAYS OF BYTES REPRESENTING UNICODE CHARACTERS"
   ]
  },
  {
   "cell_type": "code",
   "execution_count": 8,
   "id": "7ad2a6dc",
   "metadata": {},
   "outputs": [
    {
     "data": {
      "text/plain": [
       "'hello python'"
      ]
     },
     "execution_count": 8,
     "metadata": {},
     "output_type": "execute_result"
    }
   ],
   "source": [
    "str=['hello python']\n",
    "str[0]"
   ]
  },
  {
   "cell_type": "code",
   "execution_count": 10,
   "id": "861e4127",
   "metadata": {},
   "outputs": [
    {
     "ename": "AttributeError",
     "evalue": "'list' object has no attribute 'lstrip'",
     "output_type": "error",
     "traceback": [
      "\u001b[1;31m---------------------------------------------------------------------------\u001b[0m",
      "\u001b[1;31mAttributeError\u001b[0m                            Traceback (most recent call last)",
      "\u001b[1;32m~\\AppData\\Local\\Temp/ipykernel_13132/2174127761.py\u001b[0m in \u001b[0;36m<module>\u001b[1;34m\u001b[0m\n\u001b[0;32m      1\u001b[0m \u001b[1;31m# stipe the left side space\u001b[0m\u001b[1;33m\u001b[0m\u001b[1;33m\u001b[0m\u001b[0m\n\u001b[1;32m----> 2\u001b[1;33m \u001b[0mstr\u001b[0m \u001b[1;33m=\u001b[0m \u001b[0mstr\u001b[0m\u001b[1;33m.\u001b[0m\u001b[0mlstrip\u001b[0m\u001b[1;33m(\u001b[0m\u001b[1;33m)\u001b[0m\u001b[1;33m\u001b[0m\u001b[1;33m\u001b[0m\u001b[0m\n\u001b[0m\u001b[0;32m      3\u001b[0m \u001b[0mstr\u001b[0m\u001b[1;33m[\u001b[0m\u001b[1;36m0\u001b[0m\u001b[1;33m]\u001b[0m\u001b[1;33m\u001b[0m\u001b[1;33m\u001b[0m\u001b[0m\n\u001b[0;32m      4\u001b[0m \u001b[0mstr\u001b[0m\u001b[1;33m[\u001b[0m\u001b[1;33m-\u001b[0m\u001b[1;36m1\u001b[0m\u001b[1;33m]\u001b[0m\u001b[1;33m\u001b[0m\u001b[1;33m\u001b[0m\u001b[0m\n",
      "\u001b[1;31mAttributeError\u001b[0m: 'list' object has no attribute 'lstrip'"
     ]
    }
   ],
   "source": [
    "# stipe the left side space\n",
    "str = str.lstrip()\n",
    "str[0]\n",
    "str[-1]"
   ]
  },
  {
   "cell_type": "code",
   "execution_count": 5,
   "id": "2654bb80",
   "metadata": {},
   "outputs": [
    {
     "data": {
      "text/plain": [
       "'o'"
      ]
     },
     "execution_count": 5,
     "metadata": {},
     "output_type": "execute_result"
    }
   ],
   "source": [
    "# stripe the right side space\n",
    "str=\"hello  \"\n",
    "str = str.rstrip()\n",
    "str[-1]"
   ]
  },
  {
   "cell_type": "code",
   "execution_count": 8,
   "id": "3b455f4b",
   "metadata": {},
   "outputs": [
    {
     "data": {
      "text/plain": [
       "'h'"
      ]
     },
     "execution_count": 8,
     "metadata": {},
     "output_type": "execute_result"
    }
   ],
   "source": [
    "# stripe the left side space\n",
    "str=\"  hello   \"\n",
    "str=str.lstrip()\n",
    "str[0]"
   ]
  },
  {
   "cell_type": "code",
   "execution_count": 10,
   "id": "ca9eb54a",
   "metadata": {},
   "outputs": [
    {
     "name": "stdout",
     "output_type": "stream",
     "text": [
      "h\n",
      "n\n"
     ]
    }
   ],
   "source": [
    "# strip from both side\n",
    "str=\"  hello python  \"\n",
    "str = str.strip()\n",
    "print(str[0])\n",
    "print(str[-1])"
   ]
  },
  {
   "cell_type": "code",
   "execution_count": 13,
   "id": "2a212320",
   "metadata": {},
   "outputs": [
    {
     "data": {
      "text/plain": [
       "'ya'"
      ]
     },
     "execution_count": 13,
     "metadata": {},
     "output_type": "execute_result"
    }
   ],
   "source": [
    "str=\"ayan\"\n",
    "str[1::]\n",
    "str[-1::]\n",
    "str[1:3]"
   ]
  },
  {
   "cell_type": "code",
   "execution_count": 14,
   "id": "7c2e3f19",
   "metadata": {},
   "outputs": [
    {
     "data": {
      "text/plain": [
       "'ayan'"
      ]
     },
     "execution_count": 14,
     "metadata": {},
     "output_type": "execute_result"
    }
   ],
   "source": [
    "str[::1]"
   ]
  },
  {
   "cell_type": "code",
   "execution_count": 19,
   "id": "d1f65192",
   "metadata": {},
   "outputs": [
    {
     "name": "stdout",
     "output_type": "stream",
     "text": [
      "first name is ayan and last name is saify and anas\n",
      "first name is ayan last name is saify\n"
     ]
    }
   ],
   "source": [
    "a='ayan'\n",
    "b='saify'\n",
    "c='anas'\n",
    "print('first name is {0} and last name is {1} and {2}'.format(a,b,c))\n",
    "print('first name is',a,'last name is' ,b)"
   ]
  },
  {
   "cell_type": "code",
   "execution_count": 20,
   "id": "9c1a774d",
   "metadata": {},
   "outputs": [
    {
     "data": {
      "text/plain": [
       "('ayan', 'saify')"
      ]
     },
     "execution_count": 20,
     "metadata": {},
     "output_type": "execute_result"
    }
   ],
   "source": [
    "a,b=\"ayan\",'saify'\n",
    "a,b"
   ]
  },
  {
   "cell_type": "code",
   "execution_count": 21,
   "id": "a45da67c",
   "metadata": {},
   "outputs": [
    {
     "data": {
      "text/plain": [
       "'lwwwwwwww'"
      ]
     },
     "execution_count": 21,
     "metadata": {},
     "output_type": "execute_result"
    }
   ],
   "source": [
    "'eeeeeelwwwwwwww'.lstrip(\"e\")\n"
   ]
  },
  {
   "cell_type": "code",
   "execution_count": 22,
   "id": "cb5d8cd8",
   "metadata": {},
   "outputs": [
    {
     "data": {
      "text/plain": [
       "'elocome'"
      ]
     },
     "execution_count": 22,
     "metadata": {},
     "output_type": "execute_result"
    }
   ],
   "source": [
    "'welocome'.lstrip('w')"
   ]
  },
  {
   "cell_type": "code",
   "execution_count": 23,
   "id": "b5fc58ae",
   "metadata": {},
   "outputs": [
    {
     "data": {
      "text/plain": [
       "'welcom'"
      ]
     },
     "execution_count": 23,
     "metadata": {},
     "output_type": "execute_result"
    }
   ],
   "source": [
    "'welcome'.rstrip('e')"
   ]
  },
  {
   "cell_type": "code",
   "execution_count": null,
   "id": "c5c40d04",
   "metadata": {},
   "outputs": [],
   "source": [
    "sent = 'welcome to dewas'\n",
    "sentList = sent.split()\n",
    "sentList\n",
    "'ayan'.join(sentList)"
   ]
  },
  {
   "cell_type": "code",
   "execution_count": null,
   "id": "46ffb8cd",
   "metadata": {},
   "outputs": [],
   "source": [
    "Q1-what is list?\n",
    "   list is collection of element is ordered  and changable allows members\n",
    "   LIST IS DENOTED BY []\n",
    "list method\n",
    "*append\n",
    "*clear\n",
    "*copy\n",
    "*count\n",
    "*extend\n",
    "*index\n",
    "*insert\n",
    "*pop\n",
    "*remove\n",
    "*reverse\n",
    "*sort"
   ]
  },
  {
   "cell_type": "code",
   "execution_count": null,
   "id": "1f570db7",
   "metadata": {},
   "outputs": [],
   "source": [
    "* append = add an element at the end of the list"
   ]
  },
  {
   "cell_type": "code",
   "execution_count": 26,
   "id": "2bffcb0d",
   "metadata": {},
   "outputs": [
    {
     "data": {
      "text/plain": [
       "[2, 3, 4, 66]"
      ]
     },
     "execution_count": 26,
     "metadata": {},
     "output_type": "execute_result"
    }
   ],
   "source": [
    "l=[2,3,4]\n",
    "l.append(66)\n",
    "l"
   ]
  },
  {
   "cell_type": "code",
   "execution_count": null,
   "id": "7111460c",
   "metadata": {},
   "outputs": [],
   "source": [
    "* clear = Remove all the element from the list "
   ]
  },
  {
   "cell_type": "code",
   "execution_count": 27,
   "id": "8eb1ef3a",
   "metadata": {},
   "outputs": [
    {
     "data": {
      "text/plain": [
       "[]"
      ]
     },
     "execution_count": 27,
     "metadata": {},
     "output_type": "execute_result"
    }
   ],
   "source": [
    "l=[2,3,4]\n",
    "l.clear()\n",
    "l"
   ]
  },
  {
   "cell_type": "code",
   "execution_count": null,
   "id": "25881ca7",
   "metadata": {},
   "outputs": [],
   "source": [
    "* copy = return a copy of a list"
   ]
  },
  {
   "cell_type": "code",
   "execution_count": 28,
   "id": "8fc4235f",
   "metadata": {},
   "outputs": [
    {
     "data": {
      "text/plain": [
       "[2, 3, 4, 54]"
      ]
     },
     "execution_count": 28,
     "metadata": {},
     "output_type": "execute_result"
    }
   ],
   "source": [
    "l=[2,3,4,54]\n",
    "l1=l.copy()\n",
    "l1"
   ]
  },
  {
   "cell_type": "code",
   "execution_count": null,
   "id": "3c0c0f16",
   "metadata": {},
   "outputs": [],
   "source": [
    "* count = return the number of element with the specific value"
   ]
  },
  {
   "cell_type": "code",
   "execution_count": 36,
   "id": "818c794c",
   "metadata": {},
   "outputs": [
    {
     "data": {
      "text/plain": [
       "4"
      ]
     },
     "execution_count": 36,
     "metadata": {},
     "output_type": "execute_result"
    }
   ],
   "source": [
    "l=[2,3,4,4,4,4,54,556]\n",
    "x=l.count(4)\n",
    "x"
   ]
  },
  {
   "cell_type": "code",
   "execution_count": null,
   "id": "7650a8df",
   "metadata": {},
   "outputs": [],
   "source": [
    "* extend = Add the element of list to the end of current"
   ]
  },
  {
   "cell_type": "code",
   "execution_count": 40,
   "id": "8e20bdcb",
   "metadata": {},
   "outputs": [
    {
     "data": {
      "text/plain": [
       "[2, 3, 343, 54, 5, 2, 34, 4, 656]"
      ]
     },
     "execution_count": 40,
     "metadata": {},
     "output_type": "execute_result"
    }
   ],
   "source": [
    "l=[2,3,343,54,5]\n",
    "l1=[2,34,4,656]\n",
    "l.extend(l1)\n",
    "l"
   ]
  },
  {
   "cell_type": "code",
   "execution_count": null,
   "id": "810af2cd",
   "metadata": {},
   "outputs": [],
   "source": [
    "* index =Return the index of the first element with the specific value"
   ]
  },
  {
   "cell_type": "code",
   "execution_count": 42,
   "id": "d59de366",
   "metadata": {},
   "outputs": [
    {
     "data": {
      "text/plain": [
       "2"
      ]
     },
     "execution_count": 42,
     "metadata": {},
     "output_type": "execute_result"
    }
   ],
   "source": [
    "l=[2,3,4,4]\n",
    "x=l.index(4)\n",
    "x"
   ]
  },
  {
   "cell_type": "code",
   "execution_count": null,
   "id": "6aae1bab",
   "metadata": {},
   "outputs": [],
   "source": [
    "* insert = Add an element with the specific position"
   ]
  },
  {
   "cell_type": "code",
   "execution_count": 43,
   "id": "7da404f5",
   "metadata": {},
   "outputs": [
    {
     "data": {
      "text/plain": [
       "[2, 3, 7777, 34, 4]"
      ]
     },
     "execution_count": 43,
     "metadata": {},
     "output_type": "execute_result"
    }
   ],
   "source": [
    "l=[2,3,34,4]\n",
    "l.insert(2,7777)\n",
    "l"
   ]
  },
  {
   "cell_type": "code",
   "execution_count": null,
   "id": "c6c5e780",
   "metadata": {},
   "outputs": [],
   "source": [
    "* pop = remove the element with the specific position "
   ]
  },
  {
   "cell_type": "code",
   "execution_count": 44,
   "id": "b5d1a8d9",
   "metadata": {},
   "outputs": [
    {
     "data": {
      "text/plain": [
       "[2, 3, 34, 5]"
      ]
     },
     "execution_count": 44,
     "metadata": {},
     "output_type": "execute_result"
    }
   ],
   "source": [
    "l=[2,3,34,45,5]\n",
    "l.pop(3)\n",
    "l"
   ]
  },
  {
   "cell_type": "code",
   "execution_count": null,
   "id": "8ffe2b32",
   "metadata": {},
   "outputs": [],
   "source": [
    "* remove = Remove the element with the specific value "
   ]
  },
  {
   "cell_type": "code",
   "execution_count": 45,
   "id": "5245689f",
   "metadata": {},
   "outputs": [
    {
     "data": {
      "text/plain": [
       "[22222222222222, 34, 34, 4, 54]"
      ]
     },
     "execution_count": 45,
     "metadata": {},
     "output_type": "execute_result"
    }
   ],
   "source": [
    "l=[22222222222222,3,34,34,4,54]\n",
    "l.remove(3)\n",
    "l"
   ]
  },
  {
   "cell_type": "code",
   "execution_count": null,
   "id": "39415fbe",
   "metadata": {},
   "outputs": [],
   "source": [
    "* reverse = reverse the order of the list "
   ]
  },
  {
   "cell_type": "code",
   "execution_count": 46,
   "id": "0252c19d",
   "metadata": {},
   "outputs": [
    {
     "data": {
      "text/plain": [
       "[54, 4, 4, 3]"
      ]
     },
     "execution_count": 46,
     "metadata": {},
     "output_type": "execute_result"
    }
   ],
   "source": [
    "l=[3,4,4,54]\n",
    "l.reverse()\n",
    "l"
   ]
  },
  {
   "cell_type": "code",
   "execution_count": null,
   "id": "9c19c2e2",
   "metadata": {},
   "outputs": [],
   "source": [
    "*sort = sorts the list"
   ]
  },
  {
   "cell_type": "code",
   "execution_count": 47,
   "id": "1a78e166",
   "metadata": {},
   "outputs": [
    {
     "data": {
      "text/plain": [
       "[5, 6, 56, 67, 332, 444]"
      ]
     },
     "execution_count": 47,
     "metadata": {},
     "output_type": "execute_result"
    }
   ],
   "source": [
    "l=[332,444,5,56,6,67]\n",
    "l.sort()\n",
    "l"
   ]
  },
  {
   "cell_type": "code",
   "execution_count": null,
   "id": "c01e4bb2",
   "metadata": {},
   "outputs": [],
   "source": [
    "Q2-What iS TRUPLE ?\n",
    "      TRUPLE IS COLLECTION WHICH ORDERED AND UNCHANGEABLE ALLOWS DUBLICATE MEMBERS\n",
    "TRUPLE ARE USED TO STORE MULTIPLE ITEAMS IN A SINGLE VARIABLE \n",
    "TRUPLE Are denoted by ()\n",
    "\n",
    "TRUPLE METHOD !\n",
    "* COUNT\n",
    "* INDEX"
   ]
  },
  {
   "cell_type": "code",
   "execution_count": null,
   "id": "035f6798",
   "metadata": {},
   "outputs": [],
   "source": [
    "* count = Return the number of times a specified value occurs in a  tuple "
   ]
  },
  {
   "cell_type": "code",
   "execution_count": 50,
   "id": "8618940d",
   "metadata": {},
   "outputs": [
    {
     "data": {
      "text/plain": [
       "2"
      ]
     },
     "execution_count": 50,
     "metadata": {},
     "output_type": "execute_result"
    }
   ],
   "source": [
    "l=(2,3,4,4)\n",
    "x=l.count(4)\n",
    "x"
   ]
  },
  {
   "cell_type": "code",
   "execution_count": null,
   "id": "b186b00f",
   "metadata": {},
   "outputs": [],
   "source": [
    "* Index = Searches the truple for a specific value and retrun the position of where it was found "
   ]
  },
  {
   "cell_type": "code",
   "execution_count": 52,
   "id": "b9165f0a",
   "metadata": {},
   "outputs": [
    {
     "data": {
      "text/plain": [
       "0"
      ]
     },
     "execution_count": 52,
     "metadata": {},
     "output_type": "execute_result"
    }
   ],
   "source": [
    "l=(2,3,4,4)\n",
    "x=l.index(2)\n",
    "x"
   ]
  },
  {
   "cell_type": "code",
   "execution_count": null,
   "id": "bcdcc0d6",
   "metadata": {},
   "outputs": [],
   "source": [
    "Q3-WHAT IS SET ?\n",
    "    SET ARE  USED TO STORE MULTIPLE ITEAMS IN A SINGLE VARIABLES \n",
    "A SET IS  COLLECTION WHICH IS UNORDERED,UNCHANGEBLE\n",
    "SET IS DENOTED BY {}\n",
    "\n",
    "SET METHOD !\n",
    "* ADD\n",
    "* CLEAR\n",
    "* DIFFERENCE\n",
    "* DIFFRENCE UPDATE\n",
    "* DISCARD\n",
    "* INTERSECTION\n",
    "* INTERSECTION UPDATE\n",
    "* ISDISJOINT\n",
    "* POP\n",
    "* REMOVE\n",
    "*SYMMETRIC DIFFRENT\n",
    "* UNION\n",
    "* UPDATE\n"
   ]
  },
  {
   "cell_type": "code",
   "execution_count": null,
   "id": "ff71dc7e",
   "metadata": {},
   "outputs": [],
   "source": [
    "* ADD = ADD AND ELEMENT TO THE SET"
   ]
  },
  {
   "cell_type": "code",
   "execution_count": 57,
   "id": "29949660",
   "metadata": {},
   "outputs": [
    {
     "data": {
      "text/plain": [
       "{'222', '3', '4'}"
      ]
     },
     "execution_count": 57,
     "metadata": {},
     "output_type": "execute_result"
    }
   ],
   "source": [
    "l={'3','4'}\n",
    "l.add('222')\n",
    "l"
   ]
  },
  {
   "cell_type": "code",
   "execution_count": null,
   "id": "a1ef4586",
   "metadata": {},
   "outputs": [],
   "source": [
    "* CLEAR = REMOVE ALL THE ELEMENT FROM THE SET "
   ]
  },
  {
   "cell_type": "code",
   "execution_count": 58,
   "id": "36a8b8b8",
   "metadata": {},
   "outputs": [
    {
     "data": {
      "text/plain": [
       "set()"
      ]
     },
     "execution_count": 58,
     "metadata": {},
     "output_type": "execute_result"
    }
   ],
   "source": [
    "l={'2','3'}\n",
    "l.clear()\n",
    "l"
   ]
  },
  {
   "cell_type": "code",
   "execution_count": null,
   "id": "e72caf1d",
   "metadata": {},
   "outputs": [],
   "source": [
    "* COPY = RETURN THE COPY OF THE SET "
   ]
  },
  {
   "cell_type": "code",
   "execution_count": 60,
   "id": "9ef3d693",
   "metadata": {},
   "outputs": [
    {
     "data": {
      "text/plain": [
       "{'2', '3'}"
      ]
     },
     "execution_count": 60,
     "metadata": {},
     "output_type": "execute_result"
    }
   ],
   "source": [
    "l={'2','3'}\n",
    "x=l.copy()\n",
    "x"
   ]
  },
  {
   "cell_type": "code",
   "execution_count": null,
   "id": "af53fc9f",
   "metadata": {},
   "outputs": [],
   "source": [
    "* DIFFERENCE = RETURN A SET CONTAIN THE DIFFRENCE B/W TWO OR MORE SET"
   ]
  },
  {
   "cell_type": "code",
   "execution_count": 62,
   "id": "38be3646",
   "metadata": {},
   "outputs": [
    {
     "data": {
      "text/plain": [
       "{'5'}"
      ]
     },
     "execution_count": 62,
     "metadata": {},
     "output_type": "execute_result"
    }
   ],
   "source": [
    "x={'3','4'}\n",
    "y={'4','5'}\n",
    "z=y.difference(x)\n",
    "z"
   ]
  },
  {
   "cell_type": "code",
   "execution_count": 63,
   "id": "af2eabba",
   "metadata": {},
   "outputs": [
    {
     "data": {
      "text/plain": [
       "{'3'}"
      ]
     },
     "execution_count": 63,
     "metadata": {},
     "output_type": "execute_result"
    }
   ],
   "source": [
    "x={'3','4'}\n",
    "y={'4','5'}\n",
    "z=x.difference(y)\n",
    "z"
   ]
  },
  {
   "cell_type": "code",
   "execution_count": null,
   "id": "a4dc3b8e",
   "metadata": {},
   "outputs": [],
   "source": [
    "* DIFFRENCE UPDATE = REMOVE THE ITEMS IN THE SET THAT ARE INCLUDED IN ANOTHER SPECIFIED SET F"
   ]
  },
  {
   "cell_type": "code",
   "execution_count": 64,
   "id": "eb69af53",
   "metadata": {},
   "outputs": [
    {
     "data": {
      "text/plain": [
       "{'3'}"
      ]
     },
     "execution_count": 64,
     "metadata": {},
     "output_type": "execute_result"
    }
   ],
   "source": [
    "x={'3','4'}\n",
    "y={'4','5'}\n",
    "z=x.difference(y)\n",
    "z"
   ]
  },
  {
   "cell_type": "code",
   "execution_count": null,
   "id": "878d2e98",
   "metadata": {},
   "outputs": [],
   "source": [
    "* DISCARd = REMOVE THE SPECIFIC ITEM"
   ]
  },
  {
   "cell_type": "code",
   "execution_count": 66,
   "id": "98faaacd",
   "metadata": {},
   "outputs": [
    {
     "data": {
      "text/plain": [
       "{'3', '4'}"
      ]
     },
     "execution_count": 66,
     "metadata": {},
     "output_type": "execute_result"
    }
   ],
   "source": [
    "x={'3','4','44'}\n",
    "x.discard('44')\n",
    "x"
   ]
  },
  {
   "cell_type": "code",
   "execution_count": null,
   "id": "6499faf6",
   "metadata": {},
   "outputs": [],
   "source": [
    "* INTERSECTION = RETURN A SET THAT IS THE INTERSECTION OF TWO OTHER SET  "
   ]
  },
  {
   "cell_type": "code",
   "execution_count": 68,
   "id": "f9c59b91",
   "metadata": {},
   "outputs": [
    {
     "data": {
      "text/plain": [
       "{'4'}"
      ]
     },
     "execution_count": 68,
     "metadata": {},
     "output_type": "execute_result"
    }
   ],
   "source": [
    "x={'3','4','44'}\n",
    "y={'4','5','33'}\n",
    "z=x.intersection(y)\n",
    "z"
   ]
  },
  {
   "cell_type": "code",
   "execution_count": 69,
   "id": "632297ff",
   "metadata": {},
   "outputs": [
    {
     "data": {
      "text/plain": [
       "{'4'}"
      ]
     },
     "execution_count": 69,
     "metadata": {},
     "output_type": "execute_result"
    }
   ],
   "source": [
    "x={'3','4','44'}\n",
    "y={'4','5','33'}\n",
    "z=y.intersection(x)\n",
    "z"
   ]
  },
  {
   "cell_type": "code",
   "execution_count": null,
   "id": "2970cca2",
   "metadata": {},
   "outputs": [],
   "source": [
    "* INTERSECTION UPDATE = Removes the items in this set that are not present in other, specified set(s)"
   ]
  },
  {
   "cell_type": "code",
   "execution_count": 72,
   "id": "bf887817",
   "metadata": {},
   "outputs": [
    {
     "name": "stdout",
     "output_type": "stream",
     "text": [
      "{'apple'}\n"
     ]
    }
   ],
   "source": [
    "x = {\"apple\", \"banana\", \"cherry\"}\n",
    "y = {\"google\", \"microsoft\", \"apple\"}\n",
    "\n",
    "x.intersection_update(y) \n",
    "\n",
    "print(x)\n"
   ]
  },
  {
   "cell_type": "code",
   "execution_count": null,
   "id": "fb8b52c7",
   "metadata": {},
   "outputs": [],
   "source": [
    "* isdisjoint = Returns whether two sets have a intersection or not"
   ]
  },
  {
   "cell_type": "code",
   "execution_count": 74,
   "id": "b29807f5",
   "metadata": {},
   "outputs": [
    {
     "data": {
      "text/plain": [
       "False"
      ]
     },
     "execution_count": 74,
     "metadata": {},
     "output_type": "execute_result"
    }
   ],
   "source": [
    "x={'3','4'}\n",
    "y={'3','4'}\n",
    "z=x.isdisjoint(y)\n",
    "z"
   ]
  },
  {
   "cell_type": "code",
   "execution_count": null,
   "id": "d6f8d728",
   "metadata": {},
   "outputs": [],
   "source": [
    "* POP = REMOVE AN ELEMENT FROM THE SET "
   ]
  },
  {
   "cell_type": "code",
   "execution_count": 75,
   "id": "262e0408",
   "metadata": {},
   "outputs": [
    {
     "data": {
      "text/plain": [
       "{'3'}"
      ]
     },
     "execution_count": 75,
     "metadata": {},
     "output_type": "execute_result"
    }
   ],
   "source": [
    "x={'3','4'}\n",
    "x.pop()\n",
    "x"
   ]
  },
  {
   "cell_type": "code",
   "execution_count": null,
   "id": "af117a16",
   "metadata": {},
   "outputs": [],
   "source": [
    "* REMOVE = REMOVE THE SPECIFIC ELEMENT "
   ]
  },
  {
   "cell_type": "code",
   "execution_count": 77,
   "id": "00dba4c4",
   "metadata": {},
   "outputs": [
    {
     "data": {
      "text/plain": [
       "{'4'}"
      ]
     },
     "execution_count": 77,
     "metadata": {},
     "output_type": "execute_result"
    }
   ],
   "source": [
    "x={'3','4','3','4'}\n",
    "x.remove('3')\n",
    "x"
   ]
  },
  {
   "cell_type": "code",
   "execution_count": 79,
   "id": "5560d3f6",
   "metadata": {},
   "outputs": [
    {
     "ename": "SyntaxError",
     "evalue": "invalid syntax (Temp/ipykernel_14928/1634580711.py, line 1)",
     "output_type": "error",
     "traceback": [
      "\u001b[1;36m  File \u001b[1;32m\"C:\\Users\\HP\\AppData\\Local\\Temp/ipykernel_14928/1634580711.py\"\u001b[1;36m, line \u001b[1;32m1\u001b[0m\n\u001b[1;33m    * Symmetric differennce = RETURN  A SET WITH THE SYMMENTRIC DIFFRENCE OF TWO SETS\u001b[0m\n\u001b[1;37m                ^\u001b[0m\n\u001b[1;31mSyntaxError\u001b[0m\u001b[1;31m:\u001b[0m invalid syntax\n"
     ]
    }
   ],
   "source": [
    "* Symmetric differennce = RETURN  A SET WITH THE SYMMENTRIC DIFFRENCE OF TWO SETS"
   ]
  },
  {
   "cell_type": "code",
   "execution_count": 81,
   "id": "68ead07a",
   "metadata": {},
   "outputs": [
    {
     "data": {
      "text/plain": [
       "{'5', '9'}"
      ]
     },
     "execution_count": 81,
     "metadata": {},
     "output_type": "execute_result"
    }
   ],
   "source": [
    "x={'3','5'}\n",
    "y={'3','9'}\n",
    "z=y.symmetric_difference(x)\n",
    "z"
   ]
  },
  {
   "cell_type": "code",
   "execution_count": null,
   "id": "9e2810eb",
   "metadata": {},
   "outputs": [],
   "source": [
    "* symmetric_difference_update = inserts the symmetric differences from this set and another"
   ]
  },
  {
   "cell_type": "code",
   "execution_count": 82,
   "id": "6c063d64",
   "metadata": {},
   "outputs": [
    {
     "name": "stdout",
     "output_type": "stream",
     "text": [
      "{'banana', 'cherry', 'google', 'microsoft'}\n"
     ]
    }
   ],
   "source": [
    "x = {\"apple\", \"banana\", \"cherry\"}\n",
    "y = {\"google\", \"microsoft\", \"apple\"}\n",
    "\n",
    "x.symmetric_difference_update(y) \n",
    "\n",
    "print(x)"
   ]
  },
  {
   "cell_type": "code",
   "execution_count": null,
   "id": "6c3d5bba",
   "metadata": {},
   "outputs": [],
   "source": [
    "* union = retun the symmetric diffrence from this set and another"
   ]
  },
  {
   "cell_type": "code",
   "execution_count": 83,
   "id": "0165294d",
   "metadata": {},
   "outputs": [
    {
     "name": "stdout",
     "output_type": "stream",
     "text": [
      "{'banana', 'microsoft', 'cherry', 'google', 'apple'}\n"
     ]
    }
   ],
   "source": [
    "x = {\"apple\", \"banana\", \"cherry\"}\n",
    "y = {\"google\", \"microsoft\", \"apple\"}\n",
    "\n",
    "z = x.union(y) \n",
    "\n",
    "print(z)\n"
   ]
  },
  {
   "cell_type": "code",
   "execution_count": null,
   "id": "ede61b12",
   "metadata": {},
   "outputs": [],
   "source": [
    "* update = update the set with the union of this set and other "
   ]
  },
  {
   "cell_type": "code",
   "execution_count": 86,
   "id": "72a0fa6a",
   "metadata": {},
   "outputs": [
    {
     "name": "stdout",
     "output_type": "stream",
     "text": [
      "{'banana', 'microsoft', 'cherry', 'google', 'apple'}\n"
     ]
    }
   ],
   "source": [
    "x = {\"apple\", \"banana\", \"cherry\"}\n",
    "y = {\"google\", \"microsoft\", \"apple\"}\n",
    "\n",
    "x.update(y) \n",
    "\n",
    "print(x)\n"
   ]
  },
  {
   "cell_type": "code",
   "execution_count": null,
   "id": "4b20f9bb",
   "metadata": {},
   "outputs": [],
   "source": [
    "Q4-what is Dictionaries ?\n",
    "     dictionaries are used to store data values in key : values pair \n",
    "A DICTIONARIES IS A COLLECTIONS WHICH ORDERED CHANGEABLE AND DO NOT ALLOWS DUPLICATE MEMBERS \n",
    "Dictionaries are written with curly brackets, and have keys and values:\n",
    "IT IS DENOTED BY {}\n",
    "\n",
    "DICTIONARIES METHOD !\n",
    "* CLEAR \n",
    "* COPY \n",
    "* FROMKEYS\n",
    "* GET \n",
    "* ITEMS\n",
    "* KEYS \n",
    "* POP \n",
    "* POPITEMS\n",
    "* SET DEFAULT\n",
    "* VALUE \n",
    "* UPDATE\n"
   ]
  },
  {
   "cell_type": "code",
   "execution_count": null,
   "id": "9acdde6e",
   "metadata": {},
   "outputs": [],
   "source": [
    "* CLEAR = REMOVE ALL THE ELEMENT FROM THE DICNARY "
   ]
  },
  {
   "cell_type": "code",
   "execution_count": 1,
   "id": "87c6dfef",
   "metadata": {},
   "outputs": [
    {
     "data": {
      "text/plain": [
       "{}"
      ]
     },
     "execution_count": 1,
     "metadata": {},
     "output_type": "execute_result"
    }
   ],
   "source": [
    "a={'ayan':'shaikh','class':'12','school':'karrmdeep public school'}\n",
    "a.clear()\n",
    "a"
   ]
  },
  {
   "cell_type": "code",
   "execution_count": null,
   "id": "069d632d",
   "metadata": {},
   "outputs": [],
   "source": [
    "* COPY = RETRUN A COPY OF A DICTIONARY"
   ]
  },
  {
   "cell_type": "code",
   "execution_count": 3,
   "id": "4c84e9c1",
   "metadata": {},
   "outputs": [
    {
     "data": {
      "text/plain": [
       "{'ayan': 'classs'}"
      ]
     },
     "execution_count": 3,
     "metadata": {},
     "output_type": "execute_result"
    }
   ],
   "source": [
    "a= {'ayan':\"classs\"}\n",
    "x=a.copy()\n",
    "x"
   ]
  },
  {
   "cell_type": "code",
   "execution_count": null,
   "id": "258c495d",
   "metadata": {},
   "outputs": [],
   "source": [
    "* FROMKEYS = RETURN THE DICTIONARY WITH THE SPECIFIC KEYS AND VALUES "
   ]
  },
  {
   "cell_type": "code",
   "execution_count": 6,
   "id": "27197a2e",
   "metadata": {},
   "outputs": [
    {
     "data": {
      "text/plain": [
       "{'name': 1}"
      ]
     },
     "execution_count": 6,
     "metadata": {},
     "output_type": "execute_result"
    }
   ],
   "source": [
    "a={'name':'ayan'}\n",
    "b=1\n",
    "x=dict.fromkeys(a,b)\n",
    "x"
   ]
  },
  {
   "cell_type": "code",
   "execution_count": 7,
   "id": "14bf9e98",
   "metadata": {},
   "outputs": [
    {
     "name": "stdout",
     "output_type": "stream",
     "text": [
      "{'key1': 0, 'key2': 0, 'key3': 0}\n"
     ]
    }
   ],
   "source": [
    "x = ('key1', 'key2', 'key3')\n",
    "y = 0\n",
    "\n",
    "z = dict.fromkeys(x, y)\n",
    "\n",
    "\n",
    "print(z)"
   ]
  },
  {
   "cell_type": "code",
   "execution_count": null,
   "id": "72c62533",
   "metadata": {},
   "outputs": [],
   "source": [
    "* GET = RETURN THE VALUES OF THE SPECIFIC KEYS "
   ]
  },
  {
   "cell_type": "code",
   "execution_count": 8,
   "id": "dd41adc4",
   "metadata": {},
   "outputs": [
    {
     "data": {
      "text/plain": [
       "'12'"
      ]
     },
     "execution_count": 8,
     "metadata": {},
     "output_type": "execute_result"
    }
   ],
   "source": [
    "a={'ayan':'shaikh','class':'12'}\n",
    "x=a.get('class')\n",
    "x"
   ]
  },
  {
   "cell_type": "code",
   "execution_count": null,
   "id": "b4ab49db",
   "metadata": {},
   "outputs": [],
   "source": [
    "* ITEMS = RETRUN A LIST CONTAINING THE DICTIONARY KEYS "
   ]
  },
  {
   "cell_type": "code",
   "execution_count": 10,
   "id": "708a7a70",
   "metadata": {},
   "outputs": [
    {
     "name": "stdout",
     "output_type": "stream",
     "text": [
      "dict_items([('brand', 'Ford'), ('model', 'Mustang'), ('year', 1964)])\n"
     ]
    }
   ],
   "source": [
    "y = {\n",
    "  \"brand\": \"Ford\",\n",
    "  \"model\": \"Mustang\",\n",
    "  \"year\": 1964\n",
    "}\n",
    "\n",
    "x = y.items()\n",
    "\n",
    "print(x)"
   ]
  },
  {
   "cell_type": "code",
   "execution_count": null,
   "id": "e7570fb9",
   "metadata": {},
   "outputs": [],
   "source": [
    "* keys = RETURN A LIST CONTAINING THE DICTIONARY KEYS "
   ]
  },
  {
   "cell_type": "code",
   "execution_count": 11,
   "id": "b2e6e9d9",
   "metadata": {},
   "outputs": [
    {
     "data": {
      "text/plain": [
       "dict_keys(['brand', 'model', 'year'])"
      ]
     },
     "execution_count": 11,
     "metadata": {},
     "output_type": "execute_result"
    }
   ],
   "source": [
    "y = {\n",
    "  \"brand\": \"Ford\",\n",
    "  \"model\": \"Mustang\",\n",
    "  \"year\": 1964\n",
    "}\n",
    "x=y.keys()\n",
    "x"
   ]
  },
  {
   "cell_type": "code",
   "execution_count": null,
   "id": "3bcc0fa5",
   "metadata": {},
   "outputs": [],
   "source": [
    "* POP = REMOVES THE ELEMNT WITH THE SPECIFIC KEYS "
   ]
  },
  {
   "cell_type": "code",
   "execution_count": 15,
   "id": "18512262",
   "metadata": {},
   "outputs": [
    {
     "data": {
      "text/plain": [
       "{'model': 'Mustang', 'year': 1964}"
      ]
     },
     "execution_count": 15,
     "metadata": {},
     "output_type": "execute_result"
    }
   ],
   "source": [
    "y = {\n",
    "  \"brand\": \"Ford\",\n",
    "  \"model\": \"Mustang\",\n",
    "  \"year\": 1964\n",
    "}\n",
    "y.pop('brand')\n",
    "y"
   ]
  },
  {
   "cell_type": "code",
   "execution_count": null,
   "id": "e0e0fb89",
   "metadata": {},
   "outputs": [],
   "source": [
    "* SET DEFAULT = RETURN THE VALUE OF THE SPECIFIC KEYS IF THE KEY DOES NOT EXIST INSERT THE KEYS WITH THE SPECFIC VALUE "
   ]
  },
  {
   "cell_type": "code",
   "execution_count": 18,
   "id": "d9f9b140",
   "metadata": {},
   "outputs": [
    {
     "name": "stdout",
     "output_type": "stream",
     "text": [
      "Mustang\n"
     ]
    }
   ],
   "source": [
    "y = {\n",
    "  \"brand\": \"Ford\",\n",
    "  \"model\": \"Mustang\",\n",
    "  \"year\": 1964\n",
    "}\n",
    "\n",
    "x = y.setdefault(\"model\", \"Bronco\")\n",
    "\n",
    "print(x)\n"
   ]
  },
  {
   "cell_type": "code",
   "execution_count": null,
   "id": "98da2de2",
   "metadata": {},
   "outputs": [],
   "source": [
    "* Values =  RETURN A LIST OF ALL THE VALUES IN THE DICTIONARY "
   ]
  },
  {
   "cell_type": "code",
   "execution_count": 21,
   "id": "bc558acf",
   "metadata": {},
   "outputs": [
    {
     "data": {
      "text/plain": [
       "dict_values(['shaikh', '12', 'karmdeep'])"
      ]
     },
     "execution_count": 21,
     "metadata": {},
     "output_type": "execute_result"
    }
   ],
   "source": [
    "x={'ayan':'shaikh','class':'12','school':'karmdeep'}     #return the values \n",
    "y=x.values()\n",
    "y"
   ]
  },
  {
   "cell_type": "code",
   "execution_count": 22,
   "id": "6ef9f70a",
   "metadata": {},
   "outputs": [
    {
     "data": {
      "text/plain": [
       "dict_keys(['ayan', 'class', 'school'])"
      ]
     },
     "execution_count": 22,
     "metadata": {},
     "output_type": "execute_result"
    }
   ],
   "source": [
    "x={'ayan':'shaikh','class':'12','school':'karmdeep'}    #return the keys \n",
    "y=x.keys()\n",
    "y"
   ]
  },
  {
   "cell_type": "code",
   "execution_count": null,
   "id": "05476187",
   "metadata": {},
   "outputs": [],
   "source": [
    "* UPDATE = UPDATE THE DICTIONARY WITH THE SPECIFIC KEYS AND VALUES PAIR "
   ]
  },
  {
   "cell_type": "code",
   "execution_count": 24,
   "id": "974e544b",
   "metadata": {},
   "outputs": [
    {
     "data": {
      "text/plain": [
       "{'ayan': 'shaikh', 'class': '12', 'school': 'karmdeep', 'roll no ': '12344'}"
      ]
     },
     "execution_count": 24,
     "metadata": {},
     "output_type": "execute_result"
    }
   ],
   "source": [
    "x={'ayan':'shaikh','class':'12','school':'karmdeep'}\n",
    "x.update({'roll no ':'12344'})\n",
    "x"
   ]
  },
  {
   "cell_type": "code",
   "execution_count": 28,
   "id": "752b84b3",
   "metadata": {},
   "outputs": [
    {
     "name": "stdout",
     "output_type": "stream",
     "text": [
      "first\n",
      "tosif\n",
      "last\n",
      "khan\n"
     ]
    }
   ],
   "source": [
    "profile = {'first':'tosif','last':'khan'}\n",
    "for k,v in profile.items():\n",
    "    print(k)\n",
    "    print(v)"
   ]
  },
  {
   "cell_type": "code",
   "execution_count": 31,
   "id": "b10ba506",
   "metadata": {},
   "outputs": [
    {
     "name": "stdout",
     "output_type": "stream",
     "text": [
      "khan\n",
      "khan\n"
     ]
    }
   ],
   "source": [
    "for keys in profile:\n",
    "    print(v)"
   ]
  },
  {
   "cell_type": "code",
   "execution_count": 33,
   "id": "34ee6ad6",
   "metadata": {},
   "outputs": [
    {
     "name": "stdout",
     "output_type": "stream",
     "text": [
      "last\n",
      "last\n"
     ]
    }
   ],
   "source": [
    "for value in profile:\n",
    "    print(k)"
   ]
  },
  {
   "cell_type": "code",
   "execution_count": 34,
   "id": "0aedb128",
   "metadata": {},
   "outputs": [
    {
     "data": {
      "text/plain": [
       "dict_values(['tosif', 'khan'])"
      ]
     },
     "execution_count": 34,
     "metadata": {},
     "output_type": "execute_result"
    }
   ],
   "source": [
    "profile.values()"
   ]
  },
  {
   "cell_type": "code",
   "execution_count": 36,
   "id": "7e63b663",
   "metadata": {},
   "outputs": [
    {
     "data": {
      "text/plain": [
       "dict_keys(['first', 'last'])"
      ]
     },
     "execution_count": 36,
     "metadata": {},
     "output_type": "execute_result"
    }
   ],
   "source": [
    "profile.keys()"
   ]
  },
  {
   "cell_type": "code",
   "execution_count": 37,
   "id": "de3bf283",
   "metadata": {},
   "outputs": [],
   "source": [
    "num=0\n",
    "if num>0:\n",
    "    print('true')\n",
    "elif num<10:\n",
    "    pass\n",
    "else:\n",
    "    print('falser')"
   ]
  },
  {
   "cell_type": "code",
   "execution_count": 42,
   "id": "64992189",
   "metadata": {},
   "outputs": [
    {
     "name": "stdout",
     "output_type": "stream",
     "text": [
      "1\n",
      "2\n",
      "3\n",
      "4\n",
      "5\n",
      "6\n"
     ]
    }
   ],
   "source": [
    "for i in range(1,10):\n",
    "    if i == 7:\n",
    "        break\n",
    "    print(i)"
   ]
  },
  {
   "cell_type": "code",
   "execution_count": null,
   "id": "e8549dc6",
   "metadata": {},
   "outputs": [],
   "source": [
    "l = [1,2,3,4,5]\n",
    "i = 0\n",
    "while i < len(l):  # i < 5 # 0,1,2,3,4\n",
    "    print(l[i])\n",
    "    i+=1"
   ]
  },
  {
   "cell_type": "code",
   "execution_count": 44,
   "id": "d68fca84",
   "metadata": {},
   "outputs": [
    {
     "name": "stdout",
     "output_type": "stream",
     "text": [
      "1\n",
      "2\n",
      "3\n",
      "4\n",
      "5\n"
     ]
    }
   ],
   "source": [
    "for i in l:\n",
    "    print(i)"
   ]
  },
  {
   "cell_type": "code",
   "execution_count": 45,
   "id": "66d07ce2",
   "metadata": {},
   "outputs": [
    {
     "name": "stdout",
     "output_type": "stream",
     "text": [
      "words\n",
      "are\n",
      "awesome\n"
     ]
    }
   ],
   "source": [
    "sent = ['words','are','awesome']\n",
    "for i in sent:\n",
    "    print(i)"
   ]
  },
  {
   "cell_type": "code",
   "execution_count": 49,
   "id": "92722e87",
   "metadata": {},
   "outputs": [
    {
     "data": {
      "text/plain": [
       "['words', 'are', 'awesome']"
      ]
     },
     "execution_count": 49,
     "metadata": {},
     "output_type": "execute_result"
    }
   ],
   "source": [
    "sent = ['words','are','awesome']     # STORE THE VALUE IN NEWSEND \n",
    "newsend=[]\n",
    "for val in sent:\n",
    "    newsend.append(val)\n",
    "newsend\n",
    "    \n",
    "    "
   ]
  },
  {
   "cell_type": "code",
   "execution_count": 51,
   "id": "5ca65a6f",
   "metadata": {},
   "outputs": [
    {
     "data": {
      "text/plain": [
       "['are', 'awesome']"
      ]
     },
     "execution_count": 51,
     "metadata": {},
     "output_type": "execute_result"
    }
   ],
   "source": [
    "sent = ['words','are','awesome']\n",
    "vowels=['a','e','i','o','u']\n",
    "newsend=[]\n",
    "for val in sent:\n",
    "    if val[0] in vowels:\n",
    "        newsend.append(val)\n",
    "newsend"
   ]
  },
  {
   "cell_type": "code",
   "execution_count": 62,
   "id": "4f3a904a",
   "metadata": {},
   "outputs": [
    {
     "data": {
      "text/plain": [
       "['W', 'D', 'A', 'R', 'A', 'S', 'M', 'E']"
      ]
     },
     "execution_count": 62,
     "metadata": {},
     "output_type": "execute_result"
    }
   ],
   "source": [
    "sent = ['WorDs','ARe','AweSoME']        # isupper \n",
    "newsend=[]\n",
    "for val in sent:\n",
    "    for alp in val :\n",
    "        if alp.isupper():\n",
    "            newsend.append(alp)\n",
    "newsend\n",
    "    "
   ]
  },
  {
   "cell_type": "code",
   "execution_count": 63,
   "id": "062b9128",
   "metadata": {},
   "outputs": [
    {
     "data": {
      "text/plain": [
       "['o', 'r', 's', 'e', 'w', 'e', 'o']"
      ]
     },
     "execution_count": 63,
     "metadata": {},
     "output_type": "execute_result"
    }
   ],
   "source": [
    "sent = ['WorDs','ARe','AweSoME']         #islower\n",
    "for val in sent:\n",
    "    for alp in val :\n",
    "        if alp.islower():\n",
    "            newsend.append(alp)\n",
    "newsend\n",
    "    "
   ]
  },
  {
   "cell_type": "code",
   "execution_count": 67,
   "id": "6ca59a24",
   "metadata": {},
   "outputs": [
    {
     "data": {
      "text/plain": [
       "['W', 'D', 'A', 'R', 'A', 'S', 'M', 'E']"
      ]
     },
     "execution_count": 67,
     "metadata": {},
     "output_type": "execute_result"
    }
   ],
   "source": [
    "newsent=[alp for val in sent for alp in val if alp.isupper()]\n",
    "newsent"
   ]
  },
  {
   "cell_type": "code",
   "execution_count": 68,
   "id": "ad0977c9",
   "metadata": {},
   "outputs": [
    {
     "data": {
      "text/plain": [
       "['o', 'r', 's', 'e', 'w', 'e', 'o']"
      ]
     },
     "execution_count": 68,
     "metadata": {},
     "output_type": "execute_result"
    }
   ],
   "source": [
    "newsent=[alp for val in sent for alp in val if alp.islower()]\n",
    "newsent"
   ]
  },
  {
   "cell_type": "code",
   "execution_count": 70,
   "id": "21f7507b",
   "metadata": {},
   "outputs": [
    {
     "data": {
      "text/plain": [
       "{1: ['12', 'ayan'], 2: ['24', 'saify'], 3: ['36', 'faizan'], 4: ['48', 'anas']}"
      ]
     },
     "execution_count": 70,
     "metadata": {},
     "output_type": "execute_result"
    }
   ],
   "source": [
    "std={1:['12','ayan'],\n",
    "     2:['24','saify'],\n",
    "     3:['36','faizan'],\n",
    "     4:['48','anas']\n",
    "    }\n",
    "std"
   ]
  },
  {
   "cell_type": "code",
   "execution_count": 73,
   "id": "878a95d9",
   "metadata": {},
   "outputs": [
    {
     "name": "stdout",
     "output_type": "stream",
     "text": [
      "1\n",
      "2\n",
      "3\n",
      "4\n"
     ]
    }
   ],
   "source": [
    "for k,v in std.items():\n",
    "    print(k)"
   ]
  },
  {
   "cell_type": "code",
   "execution_count": 74,
   "id": "e3621552",
   "metadata": {},
   "outputs": [
    {
     "name": "stdout",
     "output_type": "stream",
     "text": [
      "['12', 'ayan']\n",
      "['24', 'saify']\n",
      "['36', 'faizan']\n",
      "['48', 'anas']\n"
     ]
    }
   ],
   "source": [
    "for k,v in std.items():\n",
    "    print(v)"
   ]
  },
  {
   "cell_type": "code",
   "execution_count": 87,
   "id": "62a1fa85",
   "metadata": {},
   "outputs": [
    {
     "data": {
      "text/plain": [
       "[12, 34, 32]"
      ]
     },
     "execution_count": 87,
     "metadata": {},
     "output_type": "execute_result"
    }
   ],
   "source": [
    "std = { 0 : [12,'ayan'],\n",
    "        1 : [34,'himanshu'],\n",
    "        3 : [32,'aliyanz'],\n",
    "        4 : [56,'sajid']   }\n",
    "present=[]\n",
    "for k,v in std.items():\n",
    "    if v[0] <50:\n",
    "        present.append(v[1])\n",
    "present\n",
    "        "
   ]
  },
  {
   "cell_type": "code",
   "execution_count": 91,
   "id": "be0df19f",
   "metadata": {},
   "outputs": [
    {
     "data": {
      "text/plain": [
       "['ayan', 'himanshu', 'aliyanz']"
      ]
     },
     "execution_count": 91,
     "metadata": {},
     "output_type": "execute_result"
    }
   ],
   "source": [
    "std = { 0 : [12,'ayan'],\n",
    "        1 : [34,'himanshu'],\n",
    "        3 : [32,'aliyanz'],\n",
    "        4 : [56,'sajid']   }\n",
    "heyy=[v[1] for k,v in std.items() if v[0] < 50 ]\n",
    "#for k,v in std.items():\n",
    " #   if  v[0] < 50:\n",
    " #       heyy.append(v[0])\n",
    "heyy"
   ]
  },
  {
   "cell_type": "code",
   "execution_count": 95,
   "id": "460d4f88",
   "metadata": {},
   "outputs": [
    {
     "data": {
      "text/plain": [
       "[12, 32]"
      ]
     },
     "execution_count": 95,
     "metadata": {},
     "output_type": "execute_result"
    }
   ],
   "source": [
    "std = { 0 : [12,'ayan'],\n",
    "        1 : [34,'himanshu'],\n",
    "        3 : [32,'aliyanz'],\n",
    "        4 : [56,'sajid']   }\n",
    "hlw=[v[0] for k,v in std.items() if v[1][0] in vowels]\n",
    "#vowels=['a','e','i','o','u']\n",
    "#for k,v in std.items():\n",
    " #   if v[1][0] in vowels:\n",
    "  #      hlw.append(v[1])\n",
    "hlw"
   ]
  },
  {
   "cell_type": "code",
   "execution_count": null,
   "id": "351af2a9",
   "metadata": {},
   "outputs": [],
   "source": [
    "Q5-WHAT IS FUNCTIONS ?\n",
    "     A FUNCTION IS A BLOCK OF CODE WHICH ONLY RUN WHEN IT IS CALLED YOU CAN PASS DATA KNOW AS PARAMETER,INTO A FUNCTIONS\n",
    "A FUNCTION CALLED RETURN A DATA AS A RESULT \n",
    "\n",
    "In Python a function is defined using the def keyword:\n",
    "\n",
    "*  NO ARGUMENT NO RETURN \n",
    "*  ARGUMENT BUT NO RETURN\n",
    "*  RETURN BUT NO ARGUMENT \n",
    "*  ARGUMENT And RETURN "
   ]
  },
  {
   "cell_type": "code",
   "execution_count": 96,
   "id": "3b09a0c6",
   "metadata": {},
   "outputs": [
    {
     "name": "stdout",
     "output_type": "stream",
     "text": [
      "10\n"
     ]
    }
   ],
   "source": [
    "tup = (1,2,3,4)\n",
    "sum = 0\n",
    "for val in tup:\n",
    "    sum += val\n",
    "print(sum)"
   ]
  },
  {
   "cell_type": "code",
   "execution_count": 98,
   "id": "1207c7a7",
   "metadata": {},
   "outputs": [
    {
     "name": "stdout",
     "output_type": "stream",
     "text": [
      "32\n"
     ]
    }
   ],
   "source": [
    "tup=[23,4,5]\n",
    "sum=0\n",
    "for l in tup:\n",
    "    sum=sum+l\n",
    "print(sum)"
   ]
  },
  {
   "cell_type": "code",
   "execution_count": 101,
   "id": "47f0e9ae",
   "metadata": {},
   "outputs": [
    {
     "name": "stdout",
     "output_type": "stream",
     "text": [
      "this is function\n"
     ]
    }
   ],
   "source": [
    "def fun():\n",
    "    print('this is function')\n",
    "fun()"
   ]
  },
  {
   "cell_type": "code",
   "execution_count": 103,
   "id": "4820a499",
   "metadata": {},
   "outputs": [
    {
     "name": "stdout",
     "output_type": "stream",
     "text": [
      "enter the number22\n",
      "enter the number33\n",
      "55\n"
     ]
    }
   ],
   "source": [
    "def anas():\n",
    "    num1=int(input('enter the number'))     #  NO ARRGUMENT NO RETURN\n",
    "    num2=int(input('enter the number'))\n",
    "    num3=num1+num2\n",
    "    print(num3)\n",
    "anas()\n",
    "    "
   ]
  },
  {
   "cell_type": "code",
   "execution_count": 6,
   "id": "fe5dd11a",
   "metadata": {},
   "outputs": [
    {
     "name": "stdout",
     "output_type": "stream",
     "text": [
      "enter the number=2\n",
      "enter the number=2\n",
      "4\n",
      "0\n"
     ]
    }
   ],
   "source": [
    "def sum(num1,num2):                                  # ARGUMENT BUT NO RETURN \n",
    "    num3=num1+num2              \n",
    "    print(num3)\n",
    "def sub(a,b):\n",
    "    num3=a-b\n",
    "    print(num3)\n",
    "num1=int(input('enter the number='))\n",
    "num2=int(input('enter the number='))\n",
    "sum(num1,num2)\n",
    "sub(num1,num2)"
   ]
  },
  {
   "cell_type": "code",
   "execution_count": 3,
   "id": "1c75eaf1",
   "metadata": {},
   "outputs": [
    {
     "name": "stdout",
     "output_type": "stream",
     "text": [
      "enter the number=2\n",
      "enter the number=2\n"
     ]
    },
    {
     "data": {
      "text/plain": [
       "4"
      ]
     },
     "execution_count": 3,
     "metadata": {},
     "output_type": "execute_result"
    }
   ],
   "source": [
    "def sum():                                 # NO ARGUMENT BUT RETURN \n",
    "    num1=int(input ('enter the number='))\n",
    "    num2=int(input('enter the number='))\n",
    "    c=num1+num2\n",
    "    return c\n",
    "sum()"
   ]
  },
  {
   "cell_type": "code",
   "execution_count": 8,
   "id": "51ab2de0",
   "metadata": {},
   "outputs": [
    {
     "name": "stdout",
     "output_type": "stream",
     "text": [
      "enter the number=2\n",
      "enter the number=2\n",
      "4\n"
     ]
    }
   ],
   "source": [
    "def sum(a,b):                           #  ARGUMENT AND RETURN \n",
    "    return a+b\n",
    "num1=int(input('enter the number='))\n",
    "num2=int(input('enter the number='))\n",
    "num3=sum(num1,num2)\n",
    "print(num3)"
   ]
  },
  {
   "cell_type": "code",
   "execution_count": null,
   "id": "d924fbba",
   "metadata": {},
   "outputs": [],
   "source": []
  }
 ],
 "metadata": {
  "kernelspec": {
   "display_name": "Python 3 (ipykernel)",
   "language": "python",
   "name": "python3"
  },
  "language_info": {
   "codemirror_mode": {
    "name": "ipython",
    "version": 3
   },
   "file_extension": ".py",
   "mimetype": "text/x-python",
   "name": "python",
   "nbconvert_exporter": "python",
   "pygments_lexer": "ipython3",
   "version": "3.9.7"
  }
 },
 "nbformat": 4,
 "nbformat_minor": 5
}
